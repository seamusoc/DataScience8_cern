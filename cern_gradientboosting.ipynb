{
 "metadata": {
  "name": "",
  "signature": "sha256:0bb0416f9f3ab8e95d406c491dab3484f4b0256311fffe9dae0f996aff2e65ae"
 },
 "nbformat": 3,
 "nbformat_minor": 0,
 "worksheets": [
  {
   "cells": [
    {
     "cell_type": "code",
     "collapsed": false,
     "input": [
      "%matplotlib inline\n",
      "import cern\n",
      "import pandas as pd\n",
      "import numpy as np\n",
      "import matplotlib.pyplot as plt\n",
      "\n",
      "import statsmodels.api as sm\n",
      "import numpy as np\n",
      "import matplotlib.pyplot as plt\n",
      "\n",
      "from sklearn import ensemble\n",
      "from sklearn import datasets\n",
      "from sklearn.utils import shuffle\n",
      "from sklearn.metrics import mean_squared_error\n",
      "\n",
      "\n"
     ],
     "language": "python",
     "metadata": {},
     "outputs": [],
     "prompt_number": 1
    },
    {
     "cell_type": "code",
     "collapsed": false,
     "input": [
      "import cern as cern\n",
      "\n",
      " \n",
      "cern.load_raw_data() \n",
      "\n",
      "cern.df_pri_train.head()\n",
      "\n",
      "\n",
      " \n",
      "print (162712+153003+104469+45994+83822)\n",
      "train_data,train_label,train_weight= cern.get_main_df(\"train\",'0jet',0)\n",
      " \n",
      "#cern.run_cern_output('0jet',0,150)\n",
      "cern.run_cern_output('1jet',0,300)\n",
      "cern.run_cern_output('2jet',0,300)\n",
      "cern.run_cern_output('3jet',0,300)\n",
      "cern.run_cern_output('0mass',0,150)\n",
      "    "
     ],
     "language": "python",
     "metadata": {},
     "outputs": [
      {
       "output_type": "stream",
       "stream": "stdout",
       "text": [
        "load raw data\n",
        "load test data\n",
        "('loaded', 550000)"
       ]
      },
      {
       "output_type": "stream",
       "stream": "stdout",
       "text": [
        "\n",
        "('loaded', 250000)"
       ]
      },
      {
       "output_type": "stream",
       "stream": "stdout",
       "text": [
        "\n",
        "550000"
       ]
      },
      {
       "output_type": "stream",
       "stream": "stdout",
       "text": [
        "\n",
        "('get data frame for ', 'train', '0jet', 0)\n",
        "set train labels"
       ]
      },
      {
       "output_type": "stream",
       "stream": "stdout",
       "text": [
        "\n",
        "('number of train labels', 73790)\n",
        "Strip nan values\n",
        "('get data frame for ', 'train', '0jet', 0)"
       ]
      },
      {
       "output_type": "stream",
       "stream": "stdout",
       "text": [
        "\n",
        "set train labels"
       ]
      },
      {
       "output_type": "stream",
       "stream": "stdout",
       "text": [
        "\n",
        "('number of train labels', 73790)\n",
        "Strip nan values\n",
        "fit data\n",
        "(73790, 20)\n",
        "y shape\n",
        "(73790,)\n",
        "      Iter       Train Loss   Remaining Time "
       ]
      },
      {
       "output_type": "stream",
       "stream": "stdout",
       "text": [
        "\n",
        "         1           1.2523           45.59s"
       ]
      },
      {
       "output_type": "stream",
       "stream": "stdout",
       "text": [
        "\n",
        "         2           1.2442           48.50s"
       ]
      },
      {
       "output_type": "stream",
       "stream": "stdout",
       "text": [
        "\n",
        "         3           1.2361           46.13s"
       ]
      },
      {
       "output_type": "stream",
       "stream": "stdout",
       "text": [
        "\n",
        "         4           1.2281           45.95s"
       ]
      },
      {
       "output_type": "stream",
       "stream": "stdout",
       "text": [
        "\n",
        "         5           1.2208           45.03s"
       ]
      },
      {
       "output_type": "stream",
       "stream": "stdout",
       "text": [
        "\n",
        "         6           1.2132           43.53s"
       ]
      },
      {
       "output_type": "stream",
       "stream": "stdout",
       "text": [
        "\n",
        "         7           1.2060           42.51s"
       ]
      },
      {
       "output_type": "stream",
       "stream": "stdout",
       "text": [
        "\n",
        "         8           1.1987           41.48s"
       ]
      },
      {
       "output_type": "stream",
       "stream": "stdout",
       "text": [
        "\n",
        "         9           1.1917           39.86s"
       ]
      },
      {
       "output_type": "stream",
       "stream": "stdout",
       "text": [
        "\n",
        "        10           1.1848           38.26s"
       ]
      },
      {
       "output_type": "stream",
       "stream": "stdout",
       "text": [
        "\n",
        "        20           1.1212           28.73s"
       ]
      },
      {
       "output_type": "stream",
       "stream": "stdout",
       "text": [
        "\n",
        "        30           1.0663           20.21s"
       ]
      },
      {
       "output_type": "stream",
       "stream": "stdout",
       "text": [
        "\n",
        "        40           1.0196           11.28s"
       ]
      },
      {
       "output_type": "stream",
       "stream": "stdout",
       "text": [
        "\n",
        "        50           0.9787            2.61s"
       ]
      },
      {
       "output_type": "stream",
       "stream": "stdout",
       "text": [
        "\n",
        "('get data frame for ', 'test', '0jet', 0)"
       ]
      },
      {
       "output_type": "stream",
       "stream": "stdout",
       "text": [
        "\n",
        "Strip nan values"
       ]
      },
      {
       "output_type": "stream",
       "stream": "stdout",
       "text": [
        "\n",
        "('xresult', array([0, 1, 0, ..., 0, 1, 0]))"
       ]
      },
      {
       "output_type": "stream",
       "stream": "stdout",
       "text": [
        "\n",
        "(0, 0, 0)\n",
        "len of result  162712\n",
        "result shape: (162712,)\n",
        "   result      id Label\n",
        "0       0  350002     b\n",
        "1       1  350003     s\n",
        "2       0  350005     b\n",
        "3       0  350008     b\n",
        "4       0  350011     b"
       ]
      },
      {
       "output_type": "stream",
       "stream": "stdout",
       "text": [
        "\n",
        "done"
       ]
      },
      {
       "output_type": "stream",
       "stream": "stdout",
       "text": [
        "\n"
       ]
      }
     ],
     "prompt_number": 13
    },
    {
     "cell_type": "code",
     "collapsed": false,
     "input": [
      " \n",
      "cern.run_cern_output('1jet',1,50)\n",
      "cern.run_cern_output('2jet',2,50)\n",
      "cern.run_cern_output('3jet',3,50)\n",
      "cern.run_cern_output('0mass',0,50)"
     ],
     "language": "python",
     "metadata": {},
     "outputs": [
      {
       "output_type": "stream",
       "stream": "stdout",
       "text": [
        "('get data frame for ', 'train', '1jet', 1)\n",
        "set train labels\n",
        "('number of train labels', 69982)\n",
        "Strip nan values\n",
        "fit data"
       ]
      },
      {
       "output_type": "stream",
       "stream": "stdout",
       "text": [
        "\n",
        "(69982, 23)\n",
        "y shape\n",
        "(69982,)\n",
        "      Iter       Train Loss   Remaining Time "
       ]
      },
      {
       "output_type": "stream",
       "stream": "stdout",
       "text": [
        "\n",
        "         1           1.3265           51.65s"
       ]
      },
      {
       "output_type": "stream",
       "stream": "stdout",
       "text": [
        "\n",
        "         2           1.3191           49.13s"
       ]
      },
      {
       "output_type": "stream",
       "stream": "stdout",
       "text": [
        "\n",
        "         3           1.3121           46.27s"
       ]
      },
      {
       "output_type": "stream",
       "stream": "stdout",
       "text": [
        "\n",
        "         4           1.3049           44.77s"
       ]
      },
      {
       "output_type": "stream",
       "stream": "stdout",
       "text": [
        "\n",
        "         5           1.2977           43.66s"
       ]
      },
      {
       "output_type": "stream",
       "stream": "stdout",
       "text": [
        "\n",
        "         6           1.2902           42.68s"
       ]
      },
      {
       "output_type": "stream",
       "stream": "stdout",
       "text": [
        "\n",
        "         7           1.2829           41.80s"
       ]
      },
      {
       "output_type": "stream",
       "stream": "stdout",
       "text": [
        "\n",
        "         8           1.2763           40.46s"
       ]
      },
      {
       "output_type": "stream",
       "stream": "stdout",
       "text": [
        "\n",
        "         9           1.2693           39.00s"
       ]
      },
      {
       "output_type": "stream",
       "stream": "stdout",
       "text": [
        "\n",
        "        10           1.2631           37.82s"
       ]
      },
      {
       "output_type": "stream",
       "stream": "stdout",
       "text": [
        "\n",
        "        20           1.2039           28.62s"
       ]
      },
      {
       "output_type": "stream",
       "stream": "stdout",
       "text": [
        "\n",
        "        30           1.1489           20.25s"
       ]
      },
      {
       "output_type": "stream",
       "stream": "stdout",
       "text": [
        "\n",
        "        40           1.1034           11.53s"
       ]
      },
      {
       "output_type": "stream",
       "stream": "stdout",
       "text": [
        "\n",
        "        50           1.0608            2.65s"
       ]
      },
      {
       "output_type": "stream",
       "stream": "stdout",
       "text": [
        "\n",
        "('get data frame for ', 'test', '1jet', 1)"
       ]
      },
      {
       "output_type": "stream",
       "stream": "stdout",
       "text": [
        "\n",
        "Strip nan values"
       ]
      },
      {
       "output_type": "stream",
       "stream": "stdout",
       "text": [
        "\n",
        "('xresult', array([0, 0, 0, ..., 0, 0, 0]))"
       ]
      },
      {
       "output_type": "stream",
       "stream": "stdout",
       "text": [
        "\n",
        "(0, 0, 0)\n",
        "len of result  153003\n",
        "result shape: (153003,)\n",
        "   result      id Label\n",
        "0       0  350001     b\n",
        "1       0  350006     b\n",
        "2       0  350010     b\n",
        "3       0  350018     b\n",
        "4       0  350020     b"
       ]
      },
      {
       "output_type": "stream",
       "stream": "stdout",
       "text": [
        "\n",
        "done"
       ]
      },
      {
       "output_type": "stream",
       "stream": "stdout",
       "text": [
        "\n",
        "('get data frame for ', 'train', '2jet', 2)\n",
        "set train labels\n",
        "('number of train labels', 47427)"
       ]
      },
      {
       "output_type": "stream",
       "stream": "stdout",
       "text": [
        "\n",
        "Strip nan values\n",
        "fit data\n",
        "(47427, 30)\n",
        "y shape\n",
        "(47427,)\n",
        "      Iter       Train Loss   Remaining Time "
       ]
      },
      {
       "output_type": "stream",
       "stream": "stdout",
       "text": [
        "\n",
        "         1           1.3719           40.85s"
       ]
      },
      {
       "output_type": "stream",
       "stream": "stdout",
       "text": [
        "\n",
        "         2           1.3619           38.59s"
       ]
      },
      {
       "output_type": "stream",
       "stream": "stdout",
       "text": [
        "\n",
        "         3           1.3524           37.15s"
       ]
      },
      {
       "output_type": "stream",
       "stream": "stdout",
       "text": [
        "\n",
        "         4           1.3428           35.52s"
       ]
      },
      {
       "output_type": "stream",
       "stream": "stdout",
       "text": [
        "\n",
        "         5           1.3338           34.48s"
       ]
      },
      {
       "output_type": "stream",
       "stream": "stdout",
       "text": [
        "\n",
        "         6           1.3246           33.39s"
       ]
      },
      {
       "output_type": "stream",
       "stream": "stdout",
       "text": [
        "\n",
        "         7           1.3157           33.46s"
       ]
      },
      {
       "output_type": "stream",
       "stream": "stdout",
       "text": [
        "\n",
        "         8           1.3062           32.46s"
       ]
      },
      {
       "output_type": "stream",
       "stream": "stdout",
       "text": [
        "\n",
        "         9           1.2973           31.47s"
       ]
      },
      {
       "output_type": "stream",
       "stream": "stdout",
       "text": [
        "\n",
        "        10           1.2885           30.44s"
       ]
      },
      {
       "output_type": "stream",
       "stream": "stdout",
       "text": [
        "\n",
        "        20           1.2043           23.04s"
       ]
      },
      {
       "output_type": "stream",
       "stream": "stdout",
       "text": [
        "\n",
        "        30           1.1301           15.86s"
       ]
      },
      {
       "output_type": "stream",
       "stream": "stdout",
       "text": [
        "\n",
        "        40           1.0672            8.79s"
       ]
      },
      {
       "output_type": "stream",
       "stream": "stdout",
       "text": [
        "\n",
        "        50           1.0102            2.00s"
       ]
      },
      {
       "output_type": "stream",
       "stream": "stdout",
       "text": [
        "\n",
        "('get data frame for ', 'test', '2jet', 2)"
       ]
      },
      {
       "output_type": "stream",
       "stream": "stdout",
       "text": [
        "\n",
        "Strip nan values"
       ]
      },
      {
       "output_type": "stream",
       "stream": "stdout",
       "text": [
        "\n",
        "('xresult', array([0, 1, 0, ..., 0, 0, 0]))"
       ]
      },
      {
       "output_type": "stream",
       "stream": "stdout",
       "text": [
        "\n",
        "(0, 0, 0)\n",
        "len of result  104469\n",
        "result shape: (104469,)\n",
        "   result      id Label\n",
        "0       0  350007     b\n",
        "1       1  350009     s\n",
        "2       0  350013     b\n",
        "3       0  350021     b\n",
        "4       0  350024     b"
       ]
      },
      {
       "output_type": "stream",
       "stream": "stdout",
       "text": [
        "\n",
        "done"
       ]
      },
      {
       "output_type": "stream",
       "stream": "stdout",
       "text": [
        "\n",
        "('get data frame for ', 'train', '3jet', 3)\n",
        "set train labels\n",
        "('number of train labels', 20687)\n",
        "Strip nan values\n",
        "fit data\n",
        "(20687, 30)\n",
        "y shape\n",
        "(20687,)\n",
        "      Iter       Train Loss   Remaining Time "
       ]
      },
      {
       "output_type": "stream",
       "stream": "stdout",
       "text": [
        "\n",
        "         1           1.2458           13.48s"
       ]
      },
      {
       "output_type": "stream",
       "stream": "stdout",
       "text": [
        "\n",
        "         2           1.2369           11.51s"
       ]
      },
      {
       "output_type": "stream",
       "stream": "stdout",
       "text": [
        "\n",
        "         3           1.2289           11.55s"
       ]
      },
      {
       "output_type": "stream",
       "stream": "stdout",
       "text": [
        "\n",
        "         4           1.2207           11.22s"
       ]
      },
      {
       "output_type": "stream",
       "stream": "stdout",
       "text": [
        "\n",
        "         5           1.2117           11.35s"
       ]
      },
      {
       "output_type": "stream",
       "stream": "stdout",
       "text": [
        "\n",
        "         6           1.2038           11.21s"
       ]
      },
      {
       "output_type": "stream",
       "stream": "stdout",
       "text": [
        "\n",
        "         7           1.1943           11.04s"
       ]
      },
      {
       "output_type": "stream",
       "stream": "stdout",
       "text": [
        "\n",
        "         8           1.1862           10.47s"
       ]
      },
      {
       "output_type": "stream",
       "stream": "stdout",
       "text": [
        "\n",
        "         9           1.1787           10.14s"
       ]
      },
      {
       "output_type": "stream",
       "stream": "stdout",
       "text": [
        "\n",
        "        10           1.1701           10.06s"
       ]
      },
      {
       "output_type": "stream",
       "stream": "stdout",
       "text": [
        "\n",
        "        20           1.0969            7.46s"
       ]
      },
      {
       "output_type": "stream",
       "stream": "stdout",
       "text": [
        "\n",
        "        30           1.0330            5.03s"
       ]
      },
      {
       "output_type": "stream",
       "stream": "stdout",
       "text": [
        "\n",
        "        40           0.9789            2.82s"
       ]
      },
      {
       "output_type": "stream",
       "stream": "stdout",
       "text": [
        "\n",
        "        50           0.9288            0.65s"
       ]
      },
      {
       "output_type": "stream",
       "stream": "stdout",
       "text": [
        "\n",
        "('get data frame for ', 'test', '3jet', 3)"
       ]
      },
      {
       "output_type": "stream",
       "stream": "stdout",
       "text": [
        "\n",
        "Strip nan values\n",
        "('xresult', array([0, 0, 0, ..., 0, 0, 0]))"
       ]
      },
      {
       "output_type": "stream",
       "stream": "stdout",
       "text": [
        "\n",
        "(0, 0, 0)\n",
        "len of result  45994\n",
        "result shape: (45994,)\n",
        "   result      id Label\n",
        "0       0  350004     b\n",
        "1       0  350022     b\n",
        "2       0  350025     b\n",
        "3       0  350028     b\n",
        "4       0  350071     b"
       ]
      },
      {
       "output_type": "stream",
       "stream": "stdout",
       "text": [
        "\n",
        "done"
       ]
      },
      {
       "output_type": "stream",
       "stream": "stdout",
       "text": [
        "\n",
        "('get data frame for ', 'train', '0mass', 0)\n",
        "set train labels\n",
        "('number of train labels', 38114)\n",
        "Strip nan values\n",
        "fit data"
       ]
      },
      {
       "output_type": "stream",
       "stream": "stdout",
       "text": [
        "\n",
        "(38114, 19)\n",
        "y shape\n",
        "(38114,)\n",
        "      Iter       Train Loss   Remaining Time \n",
        "         1           0.5253            9.72s"
       ]
      },
      {
       "output_type": "stream",
       "stream": "stdout",
       "text": [
        "\n",
        "         2           0.5210            8.69s"
       ]
      },
      {
       "output_type": "stream",
       "stream": "stdout",
       "text": [
        "\n",
        "         3           0.5170            8.74s"
       ]
      },
      {
       "output_type": "stream",
       "stream": "stdout",
       "text": [
        "\n",
        "         4           0.5126            9.08s"
       ]
      },
      {
       "output_type": "stream",
       "stream": "stdout",
       "text": [
        "\n",
        "         5           0.5080            9.21s"
       ]
      },
      {
       "output_type": "stream",
       "stream": "stdout",
       "text": [
        "\n",
        "         6           0.5048            8.77s"
       ]
      },
      {
       "output_type": "stream",
       "stream": "stdout",
       "text": [
        "\n",
        "         7           0.5006            8.67s"
       ]
      },
      {
       "output_type": "stream",
       "stream": "stdout",
       "text": [
        "\n",
        "         8           0.4963            8.69s"
       ]
      },
      {
       "output_type": "stream",
       "stream": "stdout",
       "text": [
        "\n",
        "         9           0.4924            8.63s"
       ]
      },
      {
       "output_type": "stream",
       "stream": "stdout",
       "text": [
        "\n",
        "        10           0.4885            8.51s"
       ]
      },
      {
       "output_type": "stream",
       "stream": "stdout",
       "text": [
        "\n",
        "        20           0.4566            6.53s"
       ]
      },
      {
       "output_type": "stream",
       "stream": "stdout",
       "text": [
        "\n",
        "        30           0.4320            4.45s"
       ]
      },
      {
       "output_type": "stream",
       "stream": "stdout",
       "text": [
        "\n",
        "        40           0.4113            2.43s"
       ]
      },
      {
       "output_type": "stream",
       "stream": "stdout",
       "text": [
        "\n",
        "        50           0.3932            0.57s"
       ]
      },
      {
       "output_type": "stream",
       "stream": "stdout",
       "text": [
        "\n",
        "('get data frame for ', 'test', '0mass', 0)"
       ]
      },
      {
       "output_type": "stream",
       "stream": "stdout",
       "text": [
        "\n",
        "Strip nan values"
       ]
      },
      {
       "output_type": "stream",
       "stream": "stdout",
       "text": [
        "\n",
        "('xresult', array([0, 0, 0, ..., 0, 0, 0]))"
       ]
      },
      {
       "output_type": "stream",
       "stream": "stdout",
       "text": [
        "\n",
        "(0, 0, 0)\n",
        "len of result  83822\n",
        "result shape: (83822,)\n",
        "   result      id Label\n",
        "0       0  350000     b\n",
        "1       0  350014     b\n",
        "2       0  350015     b\n",
        "3       0  350030     b\n",
        "4       0  350034     b"
       ]
      },
      {
       "output_type": "stream",
       "stream": "stdout",
       "text": [
        "\n",
        "done"
       ]
      },
      {
       "output_type": "stream",
       "stream": "stdout",
       "text": [
        "\n"
       ]
      }
     ],
     "prompt_number": 15
    },
    {
     "cell_type": "code",
     "collapsed": false,
     "input": [
      "cern.run_cern_output('0jet',0,50)\n",
      "#add cols sort and create combinded file in kaggle format\n",
      "\n",
      "#write_final_file()\n"
     ],
     "language": "python",
     "metadata": {},
     "outputs": [
      {
       "output_type": "stream",
       "stream": "stdout",
       "text": [
        "('get data frame for ', 'train', '0jet', 0)\n",
        "set train labels\n",
        "('number of train labels', 73790)"
       ]
      },
      {
       "output_type": "stream",
       "stream": "stdout",
       "text": [
        "\n",
        "Strip nan values\n",
        "fit data\n",
        "(73790, 20)\n",
        "y shape\n",
        "(73790,)\n",
        "      Iter       Train Loss   Remaining Time "
       ]
      },
      {
       "output_type": "stream",
       "stream": "stdout",
       "text": [
        "\n",
        "         1           1.2522           40.30s"
       ]
      },
      {
       "output_type": "stream",
       "stream": "stdout",
       "text": [
        "\n",
        "         2           1.2442           40.77s"
       ]
      },
      {
       "output_type": "stream",
       "stream": "stdout",
       "text": [
        "\n",
        "         3           1.2362           40.81s"
       ]
      },
      {
       "output_type": "stream",
       "stream": "stdout",
       "text": [
        "\n",
        "         4           1.2282           41.21s"
       ]
      },
      {
       "output_type": "stream",
       "stream": "stdout",
       "text": [
        "\n",
        "         5           1.2206           40.73s"
       ]
      },
      {
       "output_type": "stream",
       "stream": "stdout",
       "text": [
        "\n",
        "         6           1.2129           40.42s"
       ]
      },
      {
       "output_type": "stream",
       "stream": "stdout",
       "text": [
        "\n",
        "         7           1.2053           40.67s"
       ]
      },
      {
       "output_type": "stream",
       "stream": "stdout",
       "text": [
        "\n",
        "         8           1.1979           40.20s"
       ]
      },
      {
       "output_type": "stream",
       "stream": "stdout",
       "text": [
        "\n",
        "         9           1.1907           39.75s"
       ]
      },
      {
       "output_type": "stream",
       "stream": "stdout",
       "text": [
        "\n",
        "        10           1.1838           38.75s"
       ]
      },
      {
       "output_type": "stream",
       "stream": "stdout",
       "text": [
        "\n",
        "        20           1.1208           29.69s"
       ]
      },
      {
       "output_type": "stream",
       "stream": "stdout",
       "text": [
        "\n",
        "        30           1.0664           20.50s"
       ]
      },
      {
       "output_type": "stream",
       "stream": "stdout",
       "text": [
        "\n",
        "        40           1.0200           11.34s"
       ]
      },
      {
       "output_type": "stream",
       "stream": "stdout",
       "text": [
        "\n",
        "        50           0.9783            2.64s"
       ]
      },
      {
       "output_type": "stream",
       "stream": "stdout",
       "text": [
        "\n",
        "('get data frame for ', 'test', '0jet', 0)"
       ]
      },
      {
       "output_type": "stream",
       "stream": "stdout",
       "text": [
        "\n",
        "Strip nan values"
       ]
      },
      {
       "output_type": "stream",
       "stream": "stdout",
       "text": [
        "\n",
        "('xresult', array([0, 1, 0, ..., 0, 1, 0]))"
       ]
      },
      {
       "output_type": "stream",
       "stream": "stdout",
       "text": [
        "\n",
        "(0, 0, 0)\n",
        "len of result  162712\n",
        "result shape: (162712,)\n",
        "   result      id Label\n",
        "0       0  350002     b\n",
        "1       1  350003     s\n",
        "2       0  350005     b\n",
        "3       0  350008     b\n",
        "4       0  350011     b"
       ]
      },
      {
       "output_type": "stream",
       "stream": "stdout",
       "text": [
        "\n",
        "done"
       ]
      },
      {
       "output_type": "stream",
       "stream": "stdout",
       "text": [
        "\n"
       ]
      }
     ],
     "prompt_number": 16
    },
    {
     "cell_type": "code",
     "collapsed": false,
     "input": [
      " #list of pri \n",
      "    #df_test['PRI_tau_pt', 'PRI_tau_eta', u'PRI_tau_phi', u'PRI_lep_pt', u'PRI_lep_eta', u'PRI_lep_phi', u'PRI_met', u'PRI_met_phi', u'PRI_met_sumet', u'PRI_jet_num', u'PRI_jet_leading_pt', u'PRI_jet_leading_eta', u'PRI_jet_leading_phi', u'PRI_jet_subleading_pt', u'PRI_jet_subleading_eta', u'PRI_jet_subleading_phi', u'PRI_jet_all_pt']"
     ],
     "language": "python",
     "metadata": {},
     "outputs": [],
     "prompt_number": 13
    },
    {
     "cell_type": "code",
     "collapsed": false,
     "input": [
      "def remove_9999(inframe):\n",
      "   cols =inframe.columns\n",
      "   firstrow=inframe[:1]\n",
      "   print firstrow\n",
      "   for x in cols:\n",
      "        print x\n",
      " \n"
     ],
     "language": "python",
     "metadata": {},
     "outputs": [],
     "prompt_number": 4
    },
    {
     "cell_type": "code",
     "collapsed": false,
     "input": [
      "\n",
      "train_labels =[]\n",
      "\n"
     ],
     "language": "python",
     "metadata": {},
     "outputs": [],
     "prompt_number": 294
    },
    {
     "cell_type": "code",
     "collapsed": false,
     "input": [
      "\n",
      "X,y,z =cern.get_main_df('train','0jet',0)\n",
      "\n",
      "print X\n",
      "   "
     ],
     "language": "python",
     "metadata": {},
     "outputs": [
      {
       "ename": "NameError",
       "evalue": "name 'cern' is not defined",
       "output_type": "pyerr",
       "traceback": [
        "\u001b[0;31m---------------------------------------------------------------------------\u001b[0m\n\u001b[0;31mNameError\u001b[0m                                 Traceback (most recent call last)",
        "\u001b[0;32m<ipython-input-1-ae966fd2f2e9>\u001b[0m in \u001b[0;36m<module>\u001b[0;34m()\u001b[0m\n\u001b[1;32m      1\u001b[0m \u001b[0;34m\u001b[0m\u001b[0m\n\u001b[0;32m----> 2\u001b[0;31m \u001b[0mX\u001b[0m\u001b[0;34m,\u001b[0m\u001b[0my\u001b[0m\u001b[0;34m,\u001b[0m\u001b[0mz\u001b[0m \u001b[0;34m=\u001b[0m\u001b[0mcern\u001b[0m\u001b[0;34m.\u001b[0m\u001b[0mget_main_df\u001b[0m\u001b[0;34m(\u001b[0m\u001b[0;34m'train'\u001b[0m\u001b[0;34m,\u001b[0m\u001b[0;34m'0jet'\u001b[0m\u001b[0;34m,\u001b[0m\u001b[0;36m0\u001b[0m\u001b[0;34m)\u001b[0m\u001b[0;34m\u001b[0m\u001b[0m\n\u001b[0m\u001b[1;32m      3\u001b[0m \u001b[0;34m\u001b[0m\u001b[0m\n\u001b[1;32m      4\u001b[0m \u001b[0;32mprint\u001b[0m \u001b[0mX\u001b[0m\u001b[0;34m\u001b[0m\u001b[0m\n\u001b[1;32m      5\u001b[0m \u001b[0;34m\u001b[0m\u001b[0m\n",
        "\u001b[0;31mNameError\u001b[0m: name 'cern' is not defined"
       ]
      }
     ],
     "prompt_number": 1
    },
    {
     "cell_type": "code",
     "collapsed": false,
     "input": [
      "\n",
      "#print z\n",
      "X,y,z =cern.get_main_df('train','1jet',1)\n",
      "plt.hist(z,bins=100)\n",
      "\n",
      "\n",
      " "
     ],
     "language": "python",
     "metadata": {},
     "outputs": [
      {
       "output_type": "stream",
       "stream": "stdout",
       "text": [
        "('get data frame for ', 'train', '1jet', 1)\n",
        "set train labels\n",
        "('number of train labels', 69982)\n",
        "Strip nan values\n"
       ]
      },
      {
       "metadata": {},
       "output_type": "pyout",
       "prompt_number": 8,
       "text": [
        "(array([  3.00170000e+04,   3.90000000e+01,   0.00000000e+00,\n",
        "          2.02300000e+03,   1.19000000e+02,   1.20000000e+01,\n",
        "          0.00000000e+00,   0.00000000e+00,   0.00000000e+00,\n",
        "          1.67800000e+03,   1.61000000e+02,   1.86000000e+02,\n",
        "          2.86000000e+02,   3.51000000e+02,   2.53000000e+02,\n",
        "          1.60000000e+02,   1.31000000e+02,   5.83000000e+02,\n",
        "          3.18200000e+03,   6.10000000e+01,   6.90000000e+01,\n",
        "          9.64900000e+03,   3.69000000e+02,   7.05000000e+02,\n",
        "          1.15300000e+03,   1.55300000e+03,   1.87500000e+03,\n",
        "          2.05500000e+03,   1.93300000e+03,   1.70000000e+03,\n",
        "          1.39000000e+03,   1.08400000e+03,   9.11000000e+02,\n",
        "          7.93000000e+02,   7.00000000e+02,   6.36000000e+02,\n",
        "          5.47000000e+02,   4.84000000e+02,   3.92000000e+02,\n",
        "          3.08000000e+02,   2.52000000e+02,   1.82000000e+02,\n",
        "          1.16000000e+02,   6.70000000e+01,   3.40000000e+01,\n",
        "          1.40000000e+01,   0.00000000e+00,   0.00000000e+00,\n",
        "          4.00000000e+00,   2.00000000e+00,   6.00000000e+00,\n",
        "          7.00000000e+00,   4.00000000e+00,   2.00000000e+01,\n",
        "          2.30000000e+01,   3.40000000e+01,   5.00000000e+01,\n",
        "          5.60000000e+01,   6.10000000e+01,   8.30000000e+01,\n",
        "          7.60000000e+01,   7.70000000e+01,   9.00000000e+01,\n",
        "          8.70000000e+01,   7.00000000e+01,   7.80000000e+01,\n",
        "          7.90000000e+01,   3.70000000e+01,   5.50000000e+01,\n",
        "          4.50000000e+01,   4.40000000e+01,   4.40000000e+01,\n",
        "          4.90000000e+01,   3.90000000e+01,   3.10000000e+01,\n",
        "          4.20000000e+01,   2.60000000e+01,   2.50000000e+01,\n",
        "          3.00000000e+01,   2.70000000e+01,   3.40000000e+01,\n",
        "          2.90000000e+01,   3.50000000e+01,   3.10000000e+01,\n",
        "          2.10000000e+01,   2.20000000e+01,   2.50000000e+01,\n",
        "          2.10000000e+01,   1.80000000e+01,   2.00000000e+01,\n",
        "          2.40000000e+01,   2.00000000e+01,   1.60000000e+01,\n",
        "          1.00000000e+01,   1.30000000e+01,   7.00000000e+00,\n",
        "          1.00000000e+01,   5.00000000e+00,   5.00000000e+00,\n",
        "          2.00000000e+00]),\n",
        " array([  1.50187016e-03,   7.97122769e-02,   1.57922684e-01,\n",
        "          2.36133090e-01,   3.14343497e-01,   3.92553904e-01,\n",
        "          4.70764311e-01,   5.48974717e-01,   6.27185124e-01,\n",
        "          7.05395531e-01,   7.83605938e-01,   8.61816344e-01,\n",
        "          9.40026751e-01,   1.01823716e+00,   1.09644756e+00,\n",
        "          1.17465797e+00,   1.25286838e+00,   1.33107878e+00,\n",
        "          1.40928919e+00,   1.48749960e+00,   1.56571001e+00,\n",
        "          1.64392041e+00,   1.72213082e+00,   1.80034123e+00,\n",
        "          1.87855163e+00,   1.95676204e+00,   2.03497245e+00,\n",
        "          2.11318285e+00,   2.19139326e+00,   2.26960367e+00,\n",
        "          2.34781407e+00,   2.42602448e+00,   2.50423489e+00,\n",
        "          2.58244529e+00,   2.66065570e+00,   2.73886611e+00,\n",
        "          2.81707651e+00,   2.89528692e+00,   2.97349733e+00,\n",
        "          3.05170773e+00,   3.12991814e+00,   3.20812855e+00,\n",
        "          3.28633895e+00,   3.36454936e+00,   3.44275977e+00,\n",
        "          3.52097017e+00,   3.59918058e+00,   3.67739099e+00,\n",
        "          3.75560139e+00,   3.83381180e+00,   3.91202221e+00,\n",
        "          3.99023261e+00,   4.06844302e+00,   4.14665343e+00,\n",
        "          4.22486383e+00,   4.30307424e+00,   4.38128465e+00,\n",
        "          4.45949505e+00,   4.53770546e+00,   4.61591587e+00,\n",
        "          4.69412628e+00,   4.77233668e+00,   4.85054709e+00,\n",
        "          4.92875750e+00,   5.00696790e+00,   5.08517831e+00,\n",
        "          5.16338872e+00,   5.24159912e+00,   5.31980953e+00,\n",
        "          5.39801994e+00,   5.47623034e+00,   5.55444075e+00,\n",
        "          5.63265116e+00,   5.71086156e+00,   5.78907197e+00,\n",
        "          5.86728238e+00,   5.94549278e+00,   6.02370319e+00,\n",
        "          6.10191360e+00,   6.18012400e+00,   6.25833441e+00,\n",
        "          6.33654482e+00,   6.41475522e+00,   6.49296563e+00,\n",
        "          6.57117604e+00,   6.64938644e+00,   6.72759685e+00,\n",
        "          6.80580726e+00,   6.88401766e+00,   6.96222807e+00,\n",
        "          7.04043848e+00,   7.11864888e+00,   7.19685929e+00,\n",
        "          7.27506970e+00,   7.35328010e+00,   7.43149051e+00,\n",
        "          7.50970092e+00,   7.58791132e+00,   7.66612173e+00,\n",
        "          7.74433214e+00,   7.82254255e+00]),\n",
        " <a list of 100 Patch objects>)"
       ]
      },
      {
       "metadata": {},
       "output_type": "display_data",
       "png": "[encoded data removed]",
       "text": [
        "<matplotlib.figure.Figure at 0x10433e090>"
       ]
      }
     ],
     "prompt_number": 8
    },
    {
     "cell_type": "code",
     "collapsed": false,
     "input": [
      "print params['n_estimators']\n",
      "\n",
      "#calc_ams(hat_X_test,hat_X_test_weight,y_test,0.1)\n",
      "#calc_ams(hat_X_train,hat_X_train_weight,y_train,0.9)\n",
      "\n",
      "print (\"calc ams hat_x_test\",hat_X_test,hat_X_test_weight,y_test)\n",
      " "
     ],
     "language": "python",
     "metadata": {},
     "outputs": [
      {
       "output_type": "stream",
       "stream": "stdout",
       "text": [
        "600\n",
        "('calc ams hat_x_test', array([0, 1, 1, ..., 0, 1, 0]), array([  2.52604576e+00,   1.50270483e-03,   1.50270483e-03, ...,\n",
        "         1.86361167e-02,   1.86361167e-02,   6.40607773e-02]), array([0, 1, 1, ..., 1, 1, 0]))\n"
       ]
      }
     ],
     "prompt_number": 60
    },
    {
     "cell_type": "code",
     "collapsed": false,
     "input": [
      "#zzz\n",
      "print hat_X_train.shape\n",
      "print hat_X_test.shape\n",
      "\n",
      "print z.shape\n",
      "\n",
      "def calc_ams (hat_label,weight,true_label,percent_of_testfile):\n",
      "     print hat_label.shape,weight.shape,true_label.shape\n",
      "     res = pd.DataFrame()\n",
      "     res['hat']=hat_label\n",
      "     res['weight']=weight\n",
      "     res['true_label']=true_label\n",
      "     res = res.apply(get_true, axis=1)\n",
      "     print res.head(30)\n",
      "     \n",
      "     print 'ams result',cern.ams(res['good_s'].sum()*(1/percent_of_testfile),res['bad_s'].sum()*(1/percent_of_testfile))\n",
      "   \n",
      "        \n",
      "\n",
      "def get_true(x):\n",
      "    if (x['hat'] ==x['true_label'] and (x['true_label']==1)):\n",
      "       x['good_s']=x['weight']\n",
      "    elif (x['hat'] !=x['true_label'] and (x['hat']==1)):\n",
      "        x['bad_s']=x['weight']\n",
      "    return x\n",
      "\n",
      "\n",
      "\n",
      "#print \"Calc ams hat_x_test\"\n",
      "#calc_ams(hat_X_test,hat_X_test_weight,y_train)"
     ],
     "language": "python",
     "metadata": {},
     "outputs": [
      {
       "output_type": "stream",
       "stream": "stdout",
       "text": [
        "(66411,)\n",
        "(7379,)\n",
        "(73790,)\n"
       ]
      }
     ],
     "prompt_number": 11
    },
    {
     "cell_type": "code",
     "collapsed": false,
     "input": [
      "print (\"calc ams hat_x_train\",hat_X_train,hat_X_train_weight,y_train)\n",
      "\n",
      "#calc_ams(hat_X_train,hat_X_train_weight,y_train)\n",
      "\n",
      "hat_X_train[1:30]\n"
     ],
     "language": "python",
     "metadata": {},
     "outputs": [
      {
       "output_type": "stream",
       "stream": "stdout",
       "text": [
        "('calc ams hat_x_train', array([0, 0, 0, ..., 0, 0, 0]), array([ 5.44637821,  6.24533269,  5.29600299, ...,  4.79161486,\n",
        "        1.68161144,  2.21880262]), array([0, 0, 0, ..., 0, 0, 0]))\n"
       ]
      },
      {
       "metadata": {},
       "output_type": "pyout",
       "prompt_number": 10,
       "text": [
        "array([0, 0, 0, 0, 1, 0, 0, 0, 0, 1, 0, 0, 0, 0, 0, 1, 0, 1, 0, 0, 0, 0, 0,\n",
        "       1, 0, 0, 1, 1, 0])"
       ]
      }
     ],
     "prompt_number": 10
    },
    {
     "cell_type": "code",
     "collapsed": false,
     "input": [],
     "language": "python",
     "metadata": {},
     "outputs": [],
     "prompt_number": 75
    },
    {
     "cell_type": "code",
     "collapsed": false,
     "input": [
      "from sklearn.ensemble.partial_dependence import plot_partial_dependence\n",
      " \n",
      "\n",
      "X,y,z =get_main_df('train','0jet',0)\n",
      "\n",
      "print y.shape\n",
      "print X.shape\n",
      "print X_train.shape\n",
      "print X_test.shape\n",
      "#print X_train.head(10)\n",
      "#print X_test.head(10)\n",
      "\n",
      "#params={'n_estimators': 200,'max_depth': 8, 'min_samples_leaf': 35, 'learning_rate': 0.01,'verbose':1,'max_features' : 1.0,'max_features' : 1.0}\n",
      "params = {'n_estimators': 300, 'max_depth': 15, 'max_features' : 1.0,'learning_rate': 0.01,'loss': 'deviance','min_samples_leaf':35,'subsample': 0.3,'verbose':1}\n",
      "\n",
      "\n",
      "#grid opt\n",
      " \n",
      "clf = ensemble.GradientBoostingClassifier(**params)\n",
      "clf.fit(X_train, y_train)\n",
      "\n",
      "print clf.score(X_train, y_train,z_train)\n",
      "\n",
      "#mse = mean_squared_error(y_test, clf.predict(X_test))\n",
      "#print(\"MSE: %.4f\" % mse)\n",
      "\n",
      "print \"plot z\"\n",
      "\n",
      "\n",
      "test_score = np.zeros((params['n_estimators'],), dtype=np.float64)\n",
      "\n",
      "for i, y_pred in enumerate(clf.staged_decision_function(X_test)):\n",
      "    test_score[i] = clf.loss_(y_test, y_pred)\n",
      "\n",
      "    \n",
      "print   test_score[-10:]  \n",
      "plt.figure(figsize=(12, 6))\n",
      "plt.subplot(1, 2, 1)\n",
      "plt.title('Deviance')\n",
      "plt.plot(np.arange(params['n_estimators']) + 1, clf.train_score_, 'b-',\n",
      "         label='Training Set Deviance')\n",
      "plt.plot(np.arange(params['n_estimators']) + 1, test_score, 'r-',\n",
      "         label='Test Set Deviance')\n",
      "plt.legend(loc='upper right')\n",
      "plt.xlabel('Boosting Iterations')\n",
      "plt.ylabel('Deviance')\n",
      "\n",
      "\n",
      "###############################################################################\n",
      "# Plot feature importance\n",
      "feature_importance = clf.feature_importances_\n",
      "# make importances relative to max importance\n",
      "feature_importance = 100.0 * (feature_importance / feature_importance.max())\n",
      "sorted_idx = np.argsort(feature_importance)\n",
      "pos = np.arange(sorted_idx.shape[0]) + .5\n",
      "plt.subplot(1, 2, 2)\n",
      "plt.barh(pos, feature_importance[sorted_idx], align='center')\n",
      "#plt.yticks(pos, boston.feature_names[sorted_idx])\n",
      "plt.xlabel('Relative Importance')\n",
      "plt.title('Variable Importance')\n",
      "plt.show()\n",
      "# xxx\n",
      " "
     ],
     "language": "python",
     "metadata": {},
     "outputs": [
      {
       "ename": "NameError",
       "evalue": "name 'get_main_df' is not defined",
       "output_type": "pyerr",
       "traceback": [
        "\u001b[0;31m---------------------------------------------------------------------------\u001b[0m\n\u001b[0;31mNameError\u001b[0m                                 Traceback (most recent call last)",
        "\u001b[0;32m<ipython-input-77-3aef734a393c>\u001b[0m in \u001b[0;36m<module>\u001b[0;34m()\u001b[0m\n\u001b[1;32m      2\u001b[0m \u001b[0;34m\u001b[0m\u001b[0m\n\u001b[1;32m      3\u001b[0m \u001b[0;34m\u001b[0m\u001b[0m\n\u001b[0;32m----> 4\u001b[0;31m \u001b[0mX\u001b[0m\u001b[0;34m,\u001b[0m\u001b[0my\u001b[0m\u001b[0;34m,\u001b[0m\u001b[0mz\u001b[0m \u001b[0;34m=\u001b[0m\u001b[0mget_main_df\u001b[0m\u001b[0;34m(\u001b[0m\u001b[0;34m'train'\u001b[0m\u001b[0;34m,\u001b[0m\u001b[0;34m'0jet'\u001b[0m\u001b[0;34m,\u001b[0m\u001b[0;36m0\u001b[0m\u001b[0;34m)\u001b[0m\u001b[0;34m\u001b[0m\u001b[0m\n\u001b[0m\u001b[1;32m      5\u001b[0m \u001b[0;34m\u001b[0m\u001b[0m\n\u001b[1;32m      6\u001b[0m \u001b[0;32mprint\u001b[0m \u001b[0my\u001b[0m\u001b[0;34m.\u001b[0m\u001b[0mshape\u001b[0m\u001b[0;34m\u001b[0m\u001b[0m\n",
        "\u001b[0;31mNameError\u001b[0m: name 'get_main_df' is not defined"
       ]
      }
     ],
     "prompt_number": 77
    },
    {
     "cell_type": "code",
     "collapsed": false,
     "input": [
      "# Plot feature importance\n",
      "feature_importance = clf.feature_importances_\n",
      "# make importances relative to max importance\n",
      "feature_importance = 100.0 * (feature_importance / feature_importance.max())\n",
      "sorted_idx = np.argsort(feature_importance)\n",
      "pos = np.arange(sorted_idx.shape[0]) + .5\n",
      "plt.subplot(1, 2, 2)\n",
      "plt.barh(pos, feature_importance[sorted_idx], align='center')\n",
      "plt.yticks(pos, X.columns)\n",
      "plt.xlabel('Relative Importance')\n",
      "plt.title('Variable Importance')\n",
      "plt.show()\n",
      "\n",
      "print \n",
      "# xxx  z2\n"
     ],
     "language": "python",
     "metadata": {},
     "outputs": [
      {
       "metadata": {},
       "output_type": "display_data",
       "png": "[encoded data removed]",
       "text": [
        "<matplotlib.figure.Figure at 0x1151c1190>"
       ]
      },
      {
       "output_type": "stream",
       "stream": "stdout",
       "text": [
        "\n"
       ]
      }
     ],
     "prompt_number": 304
    },
    {
     "cell_type": "code",
     "collapsed": false,
     "input": [
      "cern.write_final_file()"
     ],
     "language": "python",
     "metadata": {},
     "outputs": [
      {
       "output_type": "stream",
       "stream": "stdout",
       "text": [
        "         RankOrder Class\n",
        "EventId                 \n",
        "350000           1     b\n",
        "350001      246535     b\n",
        "350002       83823     b\n",
        "350003       83824     s\n",
        "350004      504007     b\n",
        "file reindexed and written to cern.csv,ready to upolad"
       ]
      },
      {
       "output_type": "stream",
       "stream": "stdout",
       "text": [
        "\n"
       ]
      }
     ],
     "prompt_number": 25
    },
    {
     "cell_type": "code",
     "collapsed": false,
     "input": [
      "#run_cern_output#zzzz\n",
      "\n",
      "#cern.get_main_df('train','jet0',0)\n",
      "#print X.shape\n",
      "#print y.shape\n",
      "\n",
      "#print df_test.shape\n",
      "#X.index.values\n",
      "\n",
      "cern.run_cern_output('0jet',0,100)\n",
      "#cern.run_cern_output('1jet',1,100)\n",
      "#cern.run_cern_output('2jet',2,5)\n",
      "#cern.run_cern_output('3jet',3,53)\n",
      "#cern.run_cern_output('0mass',0,53)\n"
     ],
     "language": "python",
     "metadata": {},
     "outputs": [
      {
       "output_type": "stream",
       "stream": "stdout",
       "text": [
        "('get data frame for ', 'train', '0jet', 0)\n",
        "set train labels"
       ]
      },
      {
       "output_type": "stream",
       "stream": "stdout",
       "text": [
        "\n",
        "('number of train labels', 73790)\n",
        "Strip nan values\n",
        "fit data"
       ]
      },
      {
       "output_type": "stream",
       "stream": "stdout",
       "text": [
        "\n",
        "(73790, 20)\n",
        "y shape\n",
        "(73790,)\n",
        "      Iter       Train Loss   Remaining Time "
       ]
      },
      {
       "output_type": "stream",
       "stream": "stdout",
       "text": [
        "\n",
        "         1           1.2517            1.02m"
       ]
      },
      {
       "output_type": "stream",
       "stream": "stdout",
       "text": [
        "\n",
        "         2           1.2434           57.50s"
       ]
      },
      {
       "output_type": "stream",
       "stream": "stdout",
       "text": [
        "\n",
        "         3           1.2354           52.02s"
       ]
      },
      {
       "output_type": "stream",
       "stream": "stdout",
       "text": [
        "\n",
        "         4           1.2278           48.66s"
       ]
      },
      {
       "output_type": "stream",
       "stream": "stdout",
       "text": [
        "\n",
        "         5           1.2201           47.25s"
       ]
      },
      {
       "output_type": "stream",
       "stream": "stdout",
       "text": [
        "\n",
        "         6           1.2127           46.06s"
       ]
      },
      {
       "output_type": "stream",
       "stream": "stdout",
       "text": [
        "\n",
        "         7           1.2053           44.53s"
       ]
      },
      {
       "output_type": "stream",
       "stream": "stdout",
       "text": [
        "\n",
        "         8           1.1980           43.04s"
       ]
      },
      {
       "output_type": "stream",
       "stream": "stdout",
       "text": [
        "\n",
        "         9           1.1908           42.31s"
       ]
      },
      {
       "output_type": "stream",
       "stream": "stdout",
       "text": [
        "\n",
        "        10           1.1836           42.00s"
       ]
      },
      {
       "output_type": "stream",
       "stream": "stdout",
       "text": [
        "\n",
        "        20           1.1211           29.46s"
       ]
      },
      {
       "output_type": "stream",
       "stream": "stdout",
       "text": [
        "\n",
        "        30           1.0669           20.45s"
       ]
      },
      {
       "output_type": "stream",
       "stream": "stdout",
       "text": [
        "\n",
        "        40           1.0201           11.49s"
       ]
      },
      {
       "output_type": "stream",
       "stream": "stdout",
       "text": [
        "\n",
        "        50           0.9789            2.70s"
       ]
      },
      {
       "output_type": "stream",
       "stream": "stdout",
       "text": [
        "\n",
        "('get data frame for ', 'test', '0jet', 0)"
       ]
      },
      {
       "output_type": "stream",
       "stream": "stdout",
       "text": [
        "\n",
        "Strip nan values"
       ]
      },
      {
       "output_type": "stream",
       "stream": "stdout",
       "text": [
        "\n",
        "('xresult', array([0, 1, 0, ..., 0, 1, 0]))"
       ]
      },
      {
       "output_type": "stream",
       "stream": "stdout",
       "text": [
        "\n",
        "(0, 0, 0)\n",
        "len of result  162712\n",
        "result shape: (162712,)\n",
        "   result      id Label\n",
        "0       0  350002     b\n",
        "1       1  350003     s\n",
        "2       0  350005     b\n",
        "3       0  350008     b\n",
        "4       0  350011     b"
       ]
      },
      {
       "output_type": "stream",
       "stream": "stdout",
       "text": [
        "\n",
        "done"
       ]
      },
      {
       "output_type": "stream",
       "stream": "stdout",
       "text": [
        "\n"
       ]
      }
     ],
     "prompt_number": 3
    },
    {
     "cell_type": "code",
     "collapsed": false,
     "input": [
      "\n",
      "#run_full_train()\n",
      "#zzz\n",
      "\n",
      "#test_or_train,desc,jet_num\n",
      "\n",
      "\n",
      "def run_cern_output(desc,jet_num,est):\n",
      "   \n",
      "  import pickle \n",
      "  \n",
      "  description = desc\n",
      "  jetnum = jet_num\n",
      "  estimators=est  \n",
      "    \n",
      "  X,y,z =get_main_df('train',description,jetnum)\n",
      "    \n",
      "  print(\"len x,y,x\",X,\" \",Y,\" \",Z)  \n",
      "  print(\"total of z weight:\", z.sum())\n",
      "    \n",
      "  pickle_filename =  'pickle_'+description+'.pic'\n",
      "  train_result_filename = 'cern_'+description +'.out' \n",
      "  #params = {'n_estimators': estimators, 'max_depth': 9, 'min_samples_split': 1,\n",
      "  #        'learning_rate': 0.01,'loss': 'ls','max_features' : 1.0,'min_samples_leaf':35,'verbose':1}\n",
      "\n",
      "   #Try to improve score\n",
      "  params = {'n_estimators': estimators, 'max_depth': 15, 'max_features' : 1.0,\n",
      "          'learning_rate': 0.01,'loss': 'deviance','min_samples_leaf':35,'subsample': 0.3,'verbose':1}  \n",
      "  params={'n_estimators': estimators,'max_features': 0.1, 'learning_rate': 0.01, 'max_depth': 10, 'min_samples_leaf': 11,'verbose':1}\n",
      "    \n",
      " # clf = ensemble.GradientBoostingRegressor(**params)\n",
      "  clf = ensemble.GradientBoostingClassifier(**params)\n",
      "  print \"fit data\"\n",
      "  print X.shape\n",
      "  print \"y shape\"  \n",
      "  print y.shape\n",
      "  clf.fit(X, y)\n",
      "  \n",
      " # for pred in clf.staged_predict(X):\n",
      "  #   plt.plot(X[:,0],pred,color='r',alpha=0.1)\n",
      "\n",
      "        \n",
      "        \n",
      "        \n",
      "  \n",
      "  filehandler = open(pickle_filename, 'wb')     \n",
      "  pickle_file=pickle.dump(clf,filehandler,-1) #use latest protocol \n",
      "  filehandler.close()\n",
      "    \n",
      "  filehandler = open(pickle_filename, 'rb') \n",
      "  clf2=pickle.load(filehandler)\n",
      "    \n",
      "# score\n",
      "#get train data  note y is empty labels only supplied for training file\n",
      "  X,y,z =get_main_df('test',description,jetnum)\n",
      "  x_result= clf2.predict(X)\n",
      "  print (\"xresult\",x_result)\n",
      "  print (x_result[3],x_result[4],x_result[5])\n",
      "  print \"len of result \",len(x_result)\n",
      "  print \"result shape:\",x_result.shape  \n",
      "\n",
      "    \n",
      "  # create output format\n",
      "    \n",
      "  dfid = pd.DataFrame()\n",
      "  dfid['id']=X.index.values\n",
      "\n",
      "  dfcern = pd.DataFrame()\n",
      "  dfcern['result']=x_result\n",
      "  dfcern['id']=dfid['id']\n",
      "\n",
      "#EventId,RankOrder,Class\n",
      "\n",
      "  dfcern['Label']=''\n",
      "  dfcern['Label'] = dfcern['result'].apply(lambda x: 's' if x >=0.50  else 'b')\n",
      "\n",
      "  print (dfcern.head()) \n",
      "#send results to file\n",
      "  dfkaggle = dfcern[['id','Label']]\n",
      "  dfkaggle.set_index(['id'], inplace = True)                    \n",
      "  dfkaggle.head(20)\n",
      "  outfile = '/Users/seamusocuinneagain/projects/datascience_class/cern/examples/'+desc+'.csv'\n",
      "  dfkaggle.to_csv(outfile)\n",
      "\n",
      "    \n",
      "  print (\"done\")\n",
      "\n",
      "\n",
      "\n",
      "\n"
     ],
     "language": "python",
     "metadata": {},
     "outputs": [],
     "prompt_number": 114
    },
    {
     "cell_type": "code",
     "collapsed": false,
     "input": [],
     "language": "python",
     "metadata": {},
     "outputs": [
      {
       "ename": "NameError",
       "evalue": "name 'x_result' is not defined",
       "output_type": "pyerr",
       "traceback": [
        "\u001b[0;31m---------------------------------------------------------------------------\u001b[0m\n\u001b[0;31mNameError\u001b[0m                                 Traceback (most recent call last)",
        "\u001b[0;32m<ipython-input-380-8e319a98f0d4>\u001b[0m in \u001b[0;36m<module>\u001b[0;34m()\u001b[0m\n\u001b[0;32m----> 1\u001b[0;31m \u001b[0;32mprint\u001b[0m \u001b[0mx_result\u001b[0m\u001b[0;34m\u001b[0m\u001b[0m\n\u001b[0m",
        "\u001b[0;31mNameError\u001b[0m: name 'x_result' is not defined"
       ]
      }
     ],
     "prompt_number": 380
    },
    {
     "cell_type": "code",
     "collapsed": false,
     "input": [
      "\n",
      "def final_prep():\n",
      "   cern.write_final_file()\n",
      "   '''  import subprocess\n",
      "\n",
      "    \n",
      "    p = subprocess.Popen(\"/Users/seamusocuinneagain/projects/datascience_class/cern/examples/combine.sh\", shell=True, stdout=subprocess.PIPE, stderr=subprocess.STDOUT)\n",
      "    for line in p.stdout.readlines():\n",
      "       print line,\n",
      "       retval = p.wait()\n",
      "     \n",
      "    '''\n",
      "   \n",
      "    \n",
      "final_prep()\n",
      "    "
     ],
     "language": "python",
     "metadata": {},
     "outputs": [
      {
       "output_type": "stream",
       "stream": "stdout",
       "text": [
        "         RankOrder Class\n",
        "EventId                 \n",
        "350000           1     b\n",
        "350001      246535     b\n",
        "350002       83823     b\n",
        "350003       83824     s\n",
        "350004      504007     b\n",
        "file reindexed and written to cern.csv,ready to upolad"
       ]
      },
      {
       "output_type": "stream",
       "stream": "stdout",
       "text": [
        "\n"
       ]
      }
     ],
     "prompt_number": 11
    },
    {
     "cell_type": "code",
     "collapsed": false,
     "input": [
      "cern.write_final_file()"
     ],
     "language": "python",
     "metadata": {},
     "outputs": [
      {
       "output_type": "stream",
       "stream": "stdout",
       "text": [
        "         RankOrder Class\n",
        "EventId                 \n",
        "350000           1     b\n",
        "350001      246535     b\n",
        "350002       83823     b\n",
        "350003       83824     s\n",
        "350004      504007     b\n",
        "file reindexed and written to cern.csv,ready to upolad"
       ]
      },
      {
       "output_type": "stream",
       "stream": "stdout",
       "text": [
        "\n"
       ]
      }
     ],
     "prompt_number": 17
    },
    {
     "cell_type": "code",
     "collapsed": false,
     "input": [
      "import cern\n",
      "cern.run_cern_output('0mass',0,100)\n",
      "\n"
     ],
     "language": "python",
     "metadata": {},
     "outputs": [
      {
       "output_type": "stream",
       "stream": "stdout",
       "text": [
        "('get data frame for ', 'train', '0mass', 0)\n",
        "set train labels\n",
        "('number of train labels', 38114)"
       ]
      },
      {
       "output_type": "stream",
       "stream": "stdout",
       "text": [
        "\n",
        "Strip nan values\n",
        "fit data\n",
        "(38114, 19)\n",
        "y shape\n",
        "(38114,)\n",
        "      Iter       Train Loss   Remaining Time \n",
        "         1           0.5248           14.03s"
       ]
      },
      {
       "output_type": "stream",
       "stream": "stdout",
       "text": [
        "\n",
        "         2           0.5191           12.12s"
       ]
      },
      {
       "output_type": "stream",
       "stream": "stdout",
       "text": [
        "\n",
        "         3           0.5143           11.61s"
       ]
      },
      {
       "output_type": "stream",
       "stream": "stdout",
       "text": [
        "\n",
        "         4           0.5095           11.61s"
       ]
      },
      {
       "output_type": "stream",
       "stream": "stdout",
       "text": [
        "\n",
        "         5           0.5052           11.09s"
       ]
      },
      {
       "output_type": "stream",
       "stream": "stdout",
       "text": [
        "\n",
        "         6           0.5010           10.79s"
       ]
      },
      {
       "output_type": "stream",
       "stream": "stdout",
       "text": [
        "\n",
        "         7           0.4967           10.51s"
       ]
      },
      {
       "output_type": "stream",
       "stream": "stdout",
       "text": [
        "\n",
        "         8           0.4925           10.09s"
       ]
      },
      {
       "output_type": "stream",
       "stream": "stdout",
       "text": [
        "\n",
        "         9           0.4887            9.77s"
       ]
      },
      {
       "output_type": "stream",
       "stream": "stdout",
       "text": [
        "\n",
        "        10           0.4850            9.37s"
       ]
      },
      {
       "output_type": "stream",
       "stream": "stdout",
       "text": [
        "\n",
        "        20           0.4541            6.66s"
       ]
      },
      {
       "output_type": "stream",
       "stream": "stdout",
       "text": [
        "\n",
        "        30           0.4301            4.40s"
       ]
      },
      {
       "output_type": "stream",
       "stream": "stdout",
       "text": [
        "\n",
        "        40           0.4093            2.51s"
       ]
      },
      {
       "output_type": "stream",
       "stream": "stdout",
       "text": [
        "\n",
        "        50           0.3909            0.58s"
       ]
      },
      {
       "output_type": "stream",
       "stream": "stdout",
       "text": [
        "\n",
        "('get data frame for ', 'test', '0mass', 0)"
       ]
      },
      {
       "output_type": "stream",
       "stream": "stdout",
       "text": [
        "\n",
        "Strip nan values"
       ]
      },
      {
       "output_type": "stream",
       "stream": "stdout",
       "text": [
        "\n",
        "('xresult', array([0, 0, 0, ..., 0, 0, 0]))"
       ]
      },
      {
       "output_type": "stream",
       "stream": "stdout",
       "text": [
        "\n",
        "(0, 0, 0)\n",
        "len of result  83822\n",
        "result shape: (83822,)\n",
        "   result      id Label\n",
        "0       0  350000     b\n",
        "1       0  350014     b\n",
        "2       0  350015     b\n",
        "3       0  350030     b\n",
        "4       0  350034     b"
       ]
      },
      {
       "output_type": "stream",
       "stream": "stdout",
       "text": [
        "\n",
        "done"
       ]
      },
      {
       "output_type": "stream",
       "stream": "stdout",
       "text": [
        "\n"
       ]
      }
     ],
     "prompt_number": 8
    },
    {
     "cell_type": "code",
     "collapsed": false,
     "input": [
      " "
     ],
     "language": "python",
     "metadata": {},
     "outputs": [],
     "prompt_number": 52
    },
    {
     "cell_type": "code",
     "collapsed": false,
     "input": [
      "'''run_full_train('1jet')\n",
      "\n",
      "def run_full_train(desc_jet):\n",
      "   \n",
      "#  params = {'n_estimators': 10, 'max_depth': 9, 'min_samples_split': 1,\n",
      " #         'learning_rate': 0.01,'loss': 'ls','max_features' : 1.0,'min_samples_leaf':35,'verbose':1}\n",
      "  params = {'n_estimators': 10, 'max_depth': 9, 'min_samples_split': 1, 'learning_rate': 0.01,'loss': 'deviance','max_features' : 1.0,'min_samples_leaf':35,'verbose':1}\n",
      "\n",
      "  clf = ensemble.GradientBoostingClassifier(**params)\n",
      "\n",
      "  train_result = clf.fit(X_train, y_train)\n",
      "  print \"score\"\n",
      "  print clf.score(X_train, y_train)\n",
      "    \n",
      "  \n",
      " \n",
      "    \n",
      "    \n",
      "\n",
      "  from sklearn.metrics import r2_score \n",
      "  print r2_score (y_test, clf.predict(X_test))\n",
      "  mse = mean_squared_error(y_test, clf.predict(X_test))\n",
      "  print(\"MSE: %.4f\" % mse)\n",
      "    \n",
      "  print clf.score(X_train, y_train)\n",
      "  import pickle\n",
      "  filehandler = open(pickle_filename, 'wb') \n",
      "    \n",
      "  pickle_file=pickle.dump(clf,filehandler,-1) #use latest protocol \n",
      "\n",
      "  filehandler.close()\n",
      "  \n",
      "    \n",
      "  filehandler = open(pickle_filename, 'rb') \n",
      "  clf2=pickle.load(filehandler)\n",
      "    \n",
      "  x_result= clf2.predict(xdata)\n",
      "\n",
      "    \n",
      "        \n",
      "# jet3 /500/12/1/0.01      (mse=0.1167)\n",
      "# jet3 /100/15/1/0.01      (mse=0.1385)\n",
      "# n_estimators': 300, 'max_depth': 15, 'min_samples_split': 1,     ==0.1276  \n",
      "#0.384382938665  deaph=9/100\n",
      "# 0.445672753547 'n_estimators': 200, 'max_depth': 8, 'min_samples_split': 1,'subsample': 0.5,\n",
      "# 0.303700764402 for loss function lad least absolute distance\n",
      "# 0.438452588899   for  'loss': 'huber' not bad default alpha =.9\n",
      "#0.431192198794 huber alpha =.8\n",
      "#0.418153782359  alpha=0.8\n",
      "#0.48308907796     ls , 400\n",
      "#499095579218   600\n",
      "# 0.475470651777  max depth 7\n",
      "# 0.475470651777 max depth 9\n",
      "# 0.384325920592   learn .005\n",
      "# 0.462889554245 'min_samples_split': 2\n",
      "#removed sampling better still improving at 200\n",
      "#. 541327681922    600\n",
      "# 0.476082259715   0.467520403172/huber   0.467520403172      #max_features 1.0 0.476803227946\n",
      "# 1000 =0.578816083623\n",
      "'''"
     ],
     "language": "python",
     "metadata": {},
     "outputs": [
      {
       "metadata": {},
       "output_type": "pyout",
       "prompt_number": 383,
       "text": [
        "'run_full_train(\\'1jet\\')\\n\\ndef run_full_train(desc_jet):\\n   \\n#  params = {\\'n_estimators\\': 10, \\'max_depth\\': 9, \\'min_samples_split\\': 1,\\n #         \\'learning_rate\\': 0.01,\\'loss\\': \\'ls\\',\\'max_features\\' : 1.0,\\'min_samples_leaf\\':35,\\'verbose\\':1}\\n  params = {\\'n_estimators\\': 10, \\'max_depth\\': 9, \\'min_samples_split\\': 1, \\'learning_rate\\': 0.01,\\'loss\\': \\'deviance\\',\\'max_features\\' : 1.0,\\'min_samples_leaf\\':35,\\'verbose\\':1}\\n\\n  clf = ensemble.GradientBoostingClassifier(**params)\\n\\n  train_result = clf.fit(X_train, y_train)\\n  print \"score\"\\n  print clf.score(X_train, y_train)\\n    \\n  \\n \\n    \\n    \\n\\n  from sklearn.metrics import r2_score \\n  print r2_score (y_test, clf.predict(X_test))\\n  mse = mean_squared_error(y_test, clf.predict(X_test))\\n  print(\"MSE: %.4f\" % mse)\\n    \\n  print clf.score(X_train, y_train)\\n  import pickle\\n  filehandler = open(pickle_filename, \\'wb\\') \\n    \\n  pickle_file=pickle.dump(clf,filehandler,-1) #use latest protocol \\n\\n  filehandler.close()\\n  \\n    \\n  filehandler = open(pickle_filename, \\'rb\\') \\n  clf2=pickle.load(filehandler)\\n    \\n  x_result= clf2.predict(xdata)\\n\\n    \\n        \\n# jet3 /500/12/1/0.01      (mse=0.1167)\\n# jet3 /100/15/1/0.01      (mse=0.1385)\\n# n_estimators\\': 300, \\'max_depth\\': 15, \\'min_samples_split\\': 1,     ==0.1276  \\n#0.384382938665  deaph=9/100\\n# 0.445672753547 \\'n_estimators\\': 200, \\'max_depth\\': 8, \\'min_samples_split\\': 1,\\'subsample\\': 0.5,\\n# 0.303700764402 for loss function lad least absolute distance\\n# 0.438452588899   for  \\'loss\\': \\'huber\\' not bad default alpha =.9\\n#0.431192198794 huber alpha =.8\\n#0.418153782359  alpha=0.8\\n#0.48308907796     ls , 400\\n#499095579218   600\\n# 0.475470651777  max depth 7\\n# 0.475470651777 max depth 9\\n# 0.384325920592   learn .005\\n# 0.462889554245 \\'min_samples_split\\': 2\\n#removed sampling better still improving at 200\\n#. 541327681922    600\\n# 0.476082259715   0.467520403172/huber   0.467520403172      #max_features 1.0 0.476803227946\\n# 1000 =0.578816083623\\n'"
       ]
      }
     ],
     "prompt_number": 383
    },
    {
     "cell_type": "code",
     "collapsed": false,
     "input": [
      "'''\n",
      "#test pickle\n",
      "    \n",
      "for pred in clf.staged_predict(X):\n",
      "   plt.plot(X[:,0],pred,color='r',alpha=0.1)\n",
      "    '''\n",
      "'''   \n",
      "print clf.score(X_train, y_train)\n",
      "import pickle\n",
      "\n",
      "\n",
      "filehandler = open('pickle_file.pic', 'wb') \n",
      "pickle_file=pickle.dump(clf,filehandler,-1) \n",
      "filehandler.close()\n",
      "\n",
      "filehandler = open('pickle_file.pic', 'rb') \n",
      "clf2=pickle.load(filehandler)\n",
      "    \n",
      "x_result= clf2.predict(xdata)\n",
      "'''"
     ],
     "language": "python",
     "metadata": {},
     "outputs": [
      {
       "metadata": {},
       "output_type": "pyout",
       "prompt_number": 384,
       "text": [
        "\"   \\nprint clf.score(X_train, y_train)\\nimport pickle\\n\\n\\nfilehandler = open('pickle_file.pic', 'wb') \\npickle_file=pickle.dump(clf,filehandler,-1) \\nfilehandler.close()\\n\\nfilehandler = open('pickle_file.pic', 'rb') \\nclf2=pickle.load(filehandler)\\n    \\nx_result= clf2.predict(xdata)\\n\""
       ]
      }
     ],
     "prompt_number": 384
    },
    {
     "cell_type": "code",
     "collapsed": false,
     "input": [
      "\n",
      "\n",
      "\n",
      "\n",
      "\n",
      "#strip -999 cols\n",
      "cols = strip_nan_cols(xdata)\n",
      "print cols\n",
      "xdata = xdata[cols]\n",
      "\n",
      "print xdata.head(5)\n",
      "print xdata.shape\n",
      "\n",
      "x_result= clf.predict(xdata)\n",
      "\n",
      "\n",
      "print len(x_result)\n",
      "sig=0\n",
      "for x in x_result:\n",
      "    if x>=0.5:\n",
      "        sig=sig+1\n",
      "        \n",
      "#print sig\n"
     ],
     "language": "python",
     "metadata": {},
     "outputs": []
    },
    {
     "cell_type": "code",
     "collapsed": false,
     "input": [
      "print 'clf score:-'\n",
      "print clf.score(X_train, y_train)\n",
      "#print clf.predict(X_test)\n",
      "\n",
      "x=clf.predict(xdata)\n",
      "print len(x)\n",
      "dfid = pd.DataFrame()\n",
      "dfid['id']=xdata.index.values\n",
      "\n",
      "dfres = pd.DataFrame()\n",
      "dfres['result']=x\n",
      "dfres['id']=dfid['id']\n",
      "\n",
      "#EventId,RankOrder,Class\n",
      "\n",
      "dfres['Label']=''\n",
      "dfres['Label'] = dfres['result'].apply(lambda x: 's' if x >=0.50  else 'b')\n",
      "\n",
      "\n",
      "\n",
      "\n",
      "#update df_final frame with results\n",
      "'''\n",
      "for indx,row in dfres.iterrows():    \n",
      "    df_final.loc[row[1],'Prediction']=row[2]\n",
      "    #print df_final.loc[row[1],'Prediction']\n",
      "  '''  \n",
      "    \n",
      "#  final output \n",
      "\n",
      "dfkaggle = dfres[['id','Label']]\n",
      "dfkaggle.set_index(['id'], inplace = True)                    \n",
      "dfkaggle.head()\n",
      "outfile = '/Users/seamusocuinneagain/projects/datascience_class/cern/examples/'+desc+'.csv'\n",
      "dfkaggle.to_csv(outfile)\n",
      "\n",
      "\n",
      "\n",
      "\n",
      "\n",
      "\n",
      "def ams(s,b):\n",
      "    print \"s and b\",s,\"-\",b\n",
      "    from math import sqrt,log\n",
      "    if b==0:\n",
      "        return 0\n",
      "\n",
      "    return sqrt(2*((s+b+10)*log(1+float(s)/(b+10))-s))\n",
      "\n",
      "\n"
     ],
     "language": "python",
     "metadata": {},
     "outputs": [
      {
       "output_type": "stream",
       "stream": "stdout",
       "text": [
        "clf score:-\n"
       ]
      },
      {
       "ename": "NameError",
       "evalue": "name 'clf' is not defined",
       "output_type": "pyerr",
       "traceback": [
        "\u001b[0;31m---------------------------------------------------------------------------\u001b[0m\n\u001b[0;31mNameError\u001b[0m                                 Traceback (most recent call last)",
        "\u001b[0;32m<ipython-input-17-de903455d78e>\u001b[0m in \u001b[0;36m<module>\u001b[0;34m()\u001b[0m\n\u001b[1;32m      1\u001b[0m \u001b[0;32mprint\u001b[0m \u001b[0;34m'clf score:-'\u001b[0m\u001b[0;34m\u001b[0m\u001b[0m\n\u001b[0;32m----> 2\u001b[0;31m \u001b[0;32mprint\u001b[0m \u001b[0mclf\u001b[0m\u001b[0;34m.\u001b[0m\u001b[0mscore\u001b[0m\u001b[0;34m(\u001b[0m\u001b[0mX_train\u001b[0m\u001b[0;34m,\u001b[0m \u001b[0my_train\u001b[0m\u001b[0;34m)\u001b[0m\u001b[0;34m\u001b[0m\u001b[0m\n\u001b[0m\u001b[1;32m      3\u001b[0m \u001b[0;31m#print clf.predict(X_test)\u001b[0m\u001b[0;34m\u001b[0m\u001b[0;34m\u001b[0m\u001b[0m\n\u001b[1;32m      4\u001b[0m \u001b[0;34m\u001b[0m\u001b[0m\n\u001b[1;32m      5\u001b[0m \u001b[0mx\u001b[0m\u001b[0;34m=\u001b[0m\u001b[0mclf\u001b[0m\u001b[0;34m.\u001b[0m\u001b[0mpredict\u001b[0m\u001b[0;34m(\u001b[0m\u001b[0mxdata\u001b[0m\u001b[0;34m)\u001b[0m\u001b[0;34m\u001b[0m\u001b[0m\n",
        "\u001b[0;31mNameError\u001b[0m: name 'clf' is not defined"
       ]
      }
     ],
     "prompt_number": 17
    },
    {
     "cell_type": "code",
     "collapsed": false,
     "input": [
      "print x_result.size\n",
      " \n",
      "resframe= pd.DataFrame(index=xdata.index)\n",
      "resframe.head()\n",
      "\n",
      "#resframe['result']=x_result"
     ],
     "language": "python",
     "metadata": {},
     "outputs": []
    },
    {
     "cell_type": "code",
     "collapsed": false,
     "input": [
      "\n",
      "test_score = np.zeros((100,), dtype=np.float64)\n",
      "\n",
      "\n",
      "\n",
      "feature_importance = clf.feature_importances_\n",
      "print (\"feature_importance\",feature_importance)\n",
      "print (len(feature_importance))\n",
      "# make importances relative to max importance\n",
      "feature_importance = 100.0 * (feature_importance / feature_importance.max())\n",
      "sorted_idx = np.argsort(feature_importance)\n",
      "pos = np.arange(sorted_idx.shape[0]) + .5\n",
      "plt.subplot(1, 2, 2)\n",
      "plt.barh(pos, feature_importance[sorted_idx], align='center')\n",
      "ytics =dfjet0.columns.values\n",
      "plt.yticks(pos,ytics)\n",
      "plt.xlabel('Relative Importance')\n",
      "plt.title('Variable Importance')\n",
      "plt.show()\n"
     ],
     "language": "python",
     "metadata": {},
     "outputs": [
      {
       "output_type": "stream",
       "stream": "stdout",
       "text": [
        "('feature_importance', array([ 0.18004234,  0.04715387,  0.05784412,  0.02587407,  0.04328901,\n",
        "        0.06056341,  0.03201497,  0.03649756,  0.03989196,  0.02087036,\n",
        "        0.01916444,  0.03670932,  0.04871966,  0.03888862,  0.02795608,\n",
        "        0.01810204,  0.01835012,  0.02350323,  0.01808024,  0.03114746,\n",
        "        0.01583607,  0.02479844,  0.        ,  0.01683327,  0.02085569,\n",
        "        0.01744022,  0.02391425,  0.02125015,  0.0177851 ,  0.01662393]))\n",
        "30\n"
       ]
      },
      {
       "ename": "NameError",
       "evalue": "name 'dfjet0' is not defined",
       "output_type": "pyerr",
       "traceback": [
        "\u001b[0;31m---------------------------------------------------------------------------\u001b[0m\n\u001b[0;31mNameError\u001b[0m                                 Traceback (most recent call last)",
        "\u001b[0;32m<ipython-input-75-d776597fd8b1>\u001b[0m in \u001b[0;36m<module>\u001b[0;34m()\u001b[0m\n\u001b[1;32m     13\u001b[0m \u001b[0mplt\u001b[0m\u001b[0;34m.\u001b[0m\u001b[0msubplot\u001b[0m\u001b[0;34m(\u001b[0m\u001b[0;36m1\u001b[0m\u001b[0;34m,\u001b[0m \u001b[0;36m2\u001b[0m\u001b[0;34m,\u001b[0m \u001b[0;36m2\u001b[0m\u001b[0;34m)\u001b[0m\u001b[0;34m\u001b[0m\u001b[0m\n\u001b[1;32m     14\u001b[0m \u001b[0mplt\u001b[0m\u001b[0;34m.\u001b[0m\u001b[0mbarh\u001b[0m\u001b[0;34m(\u001b[0m\u001b[0mpos\u001b[0m\u001b[0;34m,\u001b[0m \u001b[0mfeature_importance\u001b[0m\u001b[0;34m[\u001b[0m\u001b[0msorted_idx\u001b[0m\u001b[0;34m]\u001b[0m\u001b[0;34m,\u001b[0m \u001b[0malign\u001b[0m\u001b[0;34m=\u001b[0m\u001b[0;34m'center'\u001b[0m\u001b[0;34m)\u001b[0m\u001b[0;34m\u001b[0m\u001b[0m\n\u001b[0;32m---> 15\u001b[0;31m \u001b[0mytics\u001b[0m \u001b[0;34m=\u001b[0m\u001b[0mdfjet0\u001b[0m\u001b[0;34m.\u001b[0m\u001b[0mcolumns\u001b[0m\u001b[0;34m.\u001b[0m\u001b[0mvalues\u001b[0m\u001b[0;34m\u001b[0m\u001b[0m\n\u001b[0m\u001b[1;32m     16\u001b[0m \u001b[0mplt\u001b[0m\u001b[0;34m.\u001b[0m\u001b[0myticks\u001b[0m\u001b[0;34m(\u001b[0m\u001b[0mpos\u001b[0m\u001b[0;34m,\u001b[0m\u001b[0mytics\u001b[0m\u001b[0;34m)\u001b[0m\u001b[0;34m\u001b[0m\u001b[0m\n\u001b[1;32m     17\u001b[0m \u001b[0mplt\u001b[0m\u001b[0;34m.\u001b[0m\u001b[0mxlabel\u001b[0m\u001b[0;34m(\u001b[0m\u001b[0;34m'Relative Importance'\u001b[0m\u001b[0;34m)\u001b[0m\u001b[0;34m\u001b[0m\u001b[0m\n",
        "\u001b[0;31mNameError\u001b[0m: name 'dfjet0' is not defined"
       ]
      },
      {
       "metadata": {},
       "output_type": "display_data",
       "png": "[encoded data removed]",
       "text": [
        "<matplotlib.figure.Figure at 0x113925590>"
       ]
      }
     ],
     "prompt_number": 75
    },
    {
     "cell_type": "code",
     "collapsed": false,
     "input": [
      "\n",
      "###############################################################################\n",
      "# Plot training deviance\n",
      "from sklearn.metrics import r2_score \n",
      "# compute test set deviance\n",
      "test_score = np.zeros((params['n_estimators'],), dtype=np.float64)\n",
      "\n",
      "\n",
      "for i, y_pred in enumerate(clf.staged_decision_function(X_test)):\n",
      "    test_score[i] = clf.loss_(y_test, y_pred)\n",
      "\n",
      "plt.figure(figsize=(12, 6))\n",
      "plt.subplot(1, 2, 1)\n",
      "plt.title('Deviance')\n",
      "plt.plot(np.arange(params['n_estimators']) + 1, clf.train_score_, 'b-',\n",
      "         label='Training Set Deviance')\n",
      "plt.plot(np.arange(params['n_estimators']) + 1, test_score, 'r-',\n",
      "         label='Test Set Deviance')\n",
      "plt.legend(loc='upper right')\n",
      "plt.xlabel('Boosting Iterations')\n",
      "plt.ylabel('Deviance')\n",
      "mse = mean_squared_error(y_test, clf.predict(X_test))\n",
      "r2 = r2_score(y_test, clf.predict(X_test))\n",
      " \n",
      "print(\"MSE: %.4f\" % mse)\n",
      "print(\"R2: %.4f\" % r2) "
     ],
     "language": "python",
     "metadata": {},
     "outputs": [
      {
       "output_type": "stream",
       "stream": "stdout",
       "text": [
        "MSE: 0.1520\n",
        "R2: 0.3886\n"
       ]
      },
      {
       "metadata": {},
       "output_type": "display_data",
       "png": "[encoded data removed]",
       "text": [
        "<matplotlib.figure.Figure at 0x10db525d0>"
       ]
      }
     ],
     "prompt_number": 78
    },
    {
     "cell_type": "code",
     "collapsed": false,
     "input": [
      "# use gridsearch to find best paramaters\n",
      "#zzzz\n",
      "\n",
      "from sklearn.grid_search import GridSearchCV\n",
      "import time\n",
      "\n",
      "X,y,z =cern.get_main_df('train','1jet',1)\n",
      "start_time = time.time()\n",
      "\n",
      "paramgrid={ 'learning_rate':[0.01],\n",
      "               'max_depth':[10,9],\n",
      "               'min_samples_leaf':[40],\n",
      "               'max_features':[0.35]\n",
      "\n",
      "}\n",
      "# {'max_features': 0.1, 'learning_rate': 0.01, 'max_depth': 9, 'min_samples_leaf': 11}\n",
      "#More than ten features use max features\n",
      "#less than ten use sub sample\n",
      "est = ensemble.GradientBoostingClassifier(n_estimators=300)\n",
      "\n",
      "gs_cv=GridSearchCV(est,paramgrid,scoring= 'mean_squared_error',n_jobs=4).fit(X_train,y_train)\n",
      "print \"best hyper paramaters %r\" % gs_cv.best_params_\n",
      "finish_time = time.time()\n",
      "duration=  finish_time-start_time\n",
      "print \"duration\", duration\n",
      "\n",
      "#for jet3 best hyper paramaters {'max_features': 0.3, 'learning_rate': 0.01, 'max_depth': 5, 'min_samples_leaf': 13} estimators =600"
     ],
     "language": "python",
     "metadata": {},
     "outputs": [
      {
       "output_type": "stream",
       "stream": "stdout",
       "text": [
        "('get data frame for ', 'train', '1jet', 1)\n",
        "set train labels"
       ]
      },
      {
       "output_type": "stream",
       "stream": "stdout",
       "text": [
        "\n",
        "('number of train labels', 69982)\n",
        "Strip nan values\n"
       ]
      },
      {
       "output_type": "stream",
       "stream": "stdout",
       "text": [
        "best hyper paramaters {'max_features': 0.35, 'learning_rate': 0.01, 'max_depth': 10, 'min_samples_leaf': 40}\n",
        "duration 487.834303856\n"
       ]
      }
     ],
     "prompt_number": 72
    },
    {
     "cell_type": "code",
     "collapsed": false,
     "input": [
      "c =clf.predict(X_test)\n",
      "\n",
      "print c\n",
      "\n",
      "\n",
      "df_ams= pd.DataFrame()\n",
      "df_ams['result']=c\n",
      "df_ams['Label']=y_test  \n",
      "df_ams['weight']=z_test\n",
      "print df_amx.head(3)\n"
     ],
     "language": "python",
     "metadata": {},
     "outputs": [
      {
       "ename": "AttributeError",
       "evalue": "'NoneType' object has no attribute 'tree_'",
       "output_type": "pyerr",
       "traceback": [
        "\u001b[0;31m---------------------------------------------------------------------------\u001b[0m\n\u001b[0;31mAttributeError\u001b[0m                            Traceback (most recent call last)",
        "\u001b[0;32m<ipython-input-364-1e8b63c46172>\u001b[0m in \u001b[0;36m<module>\u001b[0;34m()\u001b[0m\n\u001b[0;32m----> 1\u001b[0;31m \u001b[0mc\u001b[0m \u001b[0;34m=\u001b[0m\u001b[0mclf\u001b[0m\u001b[0;34m.\u001b[0m\u001b[0mpredict\u001b[0m\u001b[0;34m(\u001b[0m\u001b[0mX_test\u001b[0m\u001b[0;34m)\u001b[0m\u001b[0;34m\u001b[0m\u001b[0m\n\u001b[0m\u001b[1;32m      2\u001b[0m \u001b[0;34m\u001b[0m\u001b[0m\n\u001b[1;32m      3\u001b[0m \u001b[0;32mprint\u001b[0m \u001b[0mc\u001b[0m\u001b[0;34m\u001b[0m\u001b[0m\n\u001b[1;32m      4\u001b[0m \u001b[0;34m\u001b[0m\u001b[0m\n\u001b[1;32m      5\u001b[0m \u001b[0;34m\u001b[0m\u001b[0m\n",
        "\u001b[0;32m/Users/seamusocuinneagain/anaconda/lib/python2.7/site-packages/sklearn/ensemble/gradient_boosting.pyc\u001b[0m in \u001b[0;36mpredict\u001b[0;34m(self, X)\u001b[0m\n\u001b[1;32m   1189\u001b[0m             \u001b[0mThe\u001b[0m \u001b[0mpredicted\u001b[0m \u001b[0mclasses\u001b[0m\u001b[0;34m.\u001b[0m\u001b[0;34m\u001b[0m\u001b[0m\n\u001b[1;32m   1190\u001b[0m         \"\"\"\n\u001b[0;32m-> 1191\u001b[0;31m         \u001b[0mproba\u001b[0m \u001b[0;34m=\u001b[0m \u001b[0mself\u001b[0m\u001b[0;34m.\u001b[0m\u001b[0mpredict_proba\u001b[0m\u001b[0;34m(\u001b[0m\u001b[0mX\u001b[0m\u001b[0;34m)\u001b[0m\u001b[0;34m\u001b[0m\u001b[0m\n\u001b[0m\u001b[1;32m   1192\u001b[0m         \u001b[0;32mreturn\u001b[0m \u001b[0mself\u001b[0m\u001b[0;34m.\u001b[0m\u001b[0mclasses_\u001b[0m\u001b[0;34m.\u001b[0m\u001b[0mtake\u001b[0m\u001b[0;34m(\u001b[0m\u001b[0mnp\u001b[0m\u001b[0;34m.\u001b[0m\u001b[0margmax\u001b[0m\u001b[0;34m(\u001b[0m\u001b[0mproba\u001b[0m\u001b[0;34m,\u001b[0m \u001b[0maxis\u001b[0m\u001b[0;34m=\u001b[0m\u001b[0;36m1\u001b[0m\u001b[0;34m)\u001b[0m\u001b[0;34m,\u001b[0m \u001b[0maxis\u001b[0m\u001b[0;34m=\u001b[0m\u001b[0;36m0\u001b[0m\u001b[0;34m)\u001b[0m\u001b[0;34m\u001b[0m\u001b[0m\n\u001b[1;32m   1193\u001b[0m \u001b[0;34m\u001b[0m\u001b[0m\n",
        "\u001b[0;32m/Users/seamusocuinneagain/anaconda/lib/python2.7/site-packages/sklearn/ensemble/gradient_boosting.pyc\u001b[0m in \u001b[0;36mpredict_proba\u001b[0;34m(self, X)\u001b[0m\n\u001b[1;32m   1154\u001b[0m             \u001b[0mclasses\u001b[0m \u001b[0mcorresponds\u001b[0m \u001b[0mto\u001b[0m \u001b[0mthat\u001b[0m \u001b[0;32min\u001b[0m \u001b[0mthe\u001b[0m \u001b[0mattribute\u001b[0m \u001b[0;34m`\u001b[0m\u001b[0mclasses_\u001b[0m\u001b[0;34m`\u001b[0m\u001b[0;34m.\u001b[0m\u001b[0;34m\u001b[0m\u001b[0m\n\u001b[1;32m   1155\u001b[0m         \"\"\"\n\u001b[0;32m-> 1156\u001b[0;31m         \u001b[0mscore\u001b[0m \u001b[0;34m=\u001b[0m \u001b[0mself\u001b[0m\u001b[0;34m.\u001b[0m\u001b[0mdecision_function\u001b[0m\u001b[0;34m(\u001b[0m\u001b[0mX\u001b[0m\u001b[0;34m)\u001b[0m\u001b[0;34m\u001b[0m\u001b[0m\n\u001b[0m\u001b[1;32m   1157\u001b[0m         \u001b[0;32mreturn\u001b[0m \u001b[0mself\u001b[0m\u001b[0;34m.\u001b[0m\u001b[0m_score_to_proba\u001b[0m\u001b[0;34m(\u001b[0m\u001b[0mscore\u001b[0m\u001b[0;34m)\u001b[0m\u001b[0;34m\u001b[0m\u001b[0m\n\u001b[1;32m   1158\u001b[0m \u001b[0;34m\u001b[0m\u001b[0m\n",
        "\u001b[0;32m/Users/seamusocuinneagain/anaconda/lib/python2.7/site-packages/sklearn/ensemble/gradient_boosting.pyc\u001b[0m in \u001b[0;36mdecision_function\u001b[0;34m(self, X)\u001b[0m\n\u001b[1;32m    887\u001b[0m         \u001b[0mX\u001b[0m \u001b[0;34m=\u001b[0m \u001b[0marray2d\u001b[0m\u001b[0;34m(\u001b[0m\u001b[0mX\u001b[0m\u001b[0;34m,\u001b[0m \u001b[0mdtype\u001b[0m\u001b[0;34m=\u001b[0m\u001b[0mDTYPE\u001b[0m\u001b[0;34m,\u001b[0m \u001b[0morder\u001b[0m\u001b[0;34m=\u001b[0m\u001b[0;34m\"C\"\u001b[0m\u001b[0;34m)\u001b[0m\u001b[0;34m\u001b[0m\u001b[0m\n\u001b[1;32m    888\u001b[0m         \u001b[0mscore\u001b[0m \u001b[0;34m=\u001b[0m \u001b[0mself\u001b[0m\u001b[0;34m.\u001b[0m\u001b[0m_init_decision_function\u001b[0m\u001b[0;34m(\u001b[0m\u001b[0mX\u001b[0m\u001b[0;34m)\u001b[0m\u001b[0;34m\u001b[0m\u001b[0m\n\u001b[0;32m--> 889\u001b[0;31m         \u001b[0mpredict_stages\u001b[0m\u001b[0;34m(\u001b[0m\u001b[0mself\u001b[0m\u001b[0;34m.\u001b[0m\u001b[0mestimators_\u001b[0m\u001b[0;34m,\u001b[0m \u001b[0mX\u001b[0m\u001b[0;34m,\u001b[0m \u001b[0mself\u001b[0m\u001b[0;34m.\u001b[0m\u001b[0mlearning_rate\u001b[0m\u001b[0;34m,\u001b[0m \u001b[0mscore\u001b[0m\u001b[0;34m)\u001b[0m\u001b[0;34m\u001b[0m\u001b[0m\n\u001b[0m\u001b[1;32m    890\u001b[0m         \u001b[0;32mreturn\u001b[0m \u001b[0mscore\u001b[0m\u001b[0;34m\u001b[0m\u001b[0m\n\u001b[1;32m    891\u001b[0m \u001b[0;34m\u001b[0m\u001b[0m\n",
        "\u001b[0;32m/Users/seamusocuinneagain/anaconda/lib/python2.7/site-packages/sklearn/ensemble/_gradient_boosting.so\u001b[0m in \u001b[0;36msklearn.ensemble._gradient_boosting.predict_stages (sklearn/ensemble/_gradient_boosting.c:2550)\u001b[0;34m()\u001b[0m\n",
        "\u001b[0;31mAttributeError\u001b[0m: 'NoneType' object has no attribute 'tree_'"
       ]
      }
     ],
     "prompt_number": 364
    },
    {
     "cell_type": "code",
     "collapsed": false,
     "input": [
      "c.shape\n",
      "y.shape\n",
      "\n",
      "for x in c.range:\n",
      "    print '.'"
     ],
     "language": "python",
     "metadata": {},
     "outputs": [
      {
       "ename": "AttributeError",
       "evalue": "'numpy.ndarray' object has no attribute 'range'",
       "output_type": "pyerr",
       "traceback": [
        "\u001b[0;31m---------------------------------------------------------------------------\u001b[0m\n\u001b[0;31mAttributeError\u001b[0m                            Traceback (most recent call last)",
        "\u001b[0;32m<ipython-input-173-5801ac93d579>\u001b[0m in \u001b[0;36m<module>\u001b[0;34m()\u001b[0m\n\u001b[1;32m      2\u001b[0m \u001b[0my\u001b[0m\u001b[0;34m.\u001b[0m\u001b[0mshape\u001b[0m\u001b[0;34m\u001b[0m\u001b[0m\n\u001b[1;32m      3\u001b[0m \u001b[0;34m\u001b[0m\u001b[0m\n\u001b[0;32m----> 4\u001b[0;31m \u001b[0;32mfor\u001b[0m \u001b[0mx\u001b[0m \u001b[0;32min\u001b[0m \u001b[0mc\u001b[0m\u001b[0;34m.\u001b[0m\u001b[0mrange\u001b[0m\u001b[0;34m:\u001b[0m\u001b[0;34m\u001b[0m\u001b[0m\n\u001b[0m\u001b[1;32m      5\u001b[0m     \u001b[0;32mprint\u001b[0m \u001b[0;34m'.'\u001b[0m\u001b[0;34m\u001b[0m\u001b[0m\n",
        "\u001b[0;31mAttributeError\u001b[0m: 'numpy.ndarray' object has no attribute 'range'"
       ]
      }
     ],
     "prompt_number": 173
    },
    {
     "cell_type": "code",
     "collapsed": false,
     "input": [
      "print(\"--- %s seconds ---\" % float(start_time) - float(start_time))"
     ],
     "language": "python",
     "metadata": {},
     "outputs": []
    },
    {
     "cell_type": "code",
     "collapsed": false,
     "input": [
      "print start_time"
     ],
     "language": "python",
     "metadata": {},
     "outputs": []
    },
    {
     "cell_type": "code",
     "collapsed": true,
     "input": [
      "print clf\n",
      "\n",
      "params = {'n_estimators': 20, 'max_depth': 9, 'min_samples_split': 1,\n",
      "          'learning_rate': 0.01,'loss': 'ls','max_features' : 1.0,'min_samples_leaf':35,'verbose':1}\n",
      "test_dev, ax = ensemble.deviance_plot(clf, X_test, y_test, ax=ax, label=fmt_params(params),\n",
      "                                 train_color=train_color, test_color=test_color)\n",
      "\n",
      "    "
     ],
     "language": "python",
     "metadata": {},
     "outputs": [
      {
       "ename": "NameError",
       "evalue": "name 'clf' is not defined",
       "output_type": "pyerr",
       "traceback": [
        "\u001b[0;31m---------------------------------------------------------------------------\u001b[0m\n\u001b[0;31mNameError\u001b[0m                                 Traceback (most recent call last)",
        "\u001b[0;32m<ipython-input-72-5895f9d61f31>\u001b[0m in \u001b[0;36m<module>\u001b[0;34m()\u001b[0m\n\u001b[0;32m----> 1\u001b[0;31m \u001b[0;32mprint\u001b[0m \u001b[0mclf\u001b[0m\u001b[0;34m\u001b[0m\u001b[0m\n\u001b[0m\u001b[1;32m      2\u001b[0m \u001b[0;34m\u001b[0m\u001b[0m\n\u001b[1;32m      3\u001b[0m params = {'n_estimators': 20, 'max_depth': 9, 'min_samples_split': 1,\n\u001b[1;32m      4\u001b[0m           'learning_rate': 0.01,'loss': 'ls','max_features' : 1.0,'min_samples_leaf':35,'verbose':1}\n\u001b[1;32m      5\u001b[0m test_dev, ax = ensemble.deviance_plot(clf, X_test, y_test, ax=ax, label=fmt_params(params),\n",
        "\u001b[0;31mNameError\u001b[0m: name 'clf' is not defined"
       ]
      }
     ],
     "prompt_number": 72
    },
    {
     "cell_type": "code",
     "collapsed": false,
     "input": [
      "  cern.write_final_file()"
     ],
     "language": "python",
     "metadata": {},
     "outputs": [
      {
       "output_type": "stream",
       "stream": "stdout",
       "text": [
        "         RankOrder Class\n",
        "EventId                 \n",
        "350000           1     b\n",
        "350002      409247     b\n",
        "350002      246535     b\n",
        "350002       83823     b\n",
        "350002      571959     b\n",
        "file reindexed and written to cern.csv,ready to upolad"
       ]
      },
      {
       "output_type": "stream",
       "stream": "stdout",
       "text": [
        "\n"
       ]
      }
     ],
     "prompt_number": 10
    },
    {
     "cell_type": "code",
     "collapsed": false,
     "input": [
      "#kk\n",
      "\n",
      "scorefile='/Users/seamusocuinneagain/projects/datascience_class/cern/examples/higgs-boson_public_leaderboard.csv'\n",
      "  \n",
      "\n",
      "df_scoreboard = pd.read_csv(scorefile, index_col=0)\n",
      "df_scoreboard.head()\n",
      "\n",
      "plt.plot(df_scoreboard['Score'])\n",
      " \n",
      "print df_scoreboard.hist(bins=50)"
     ],
     "language": "python",
     "metadata": {},
     "outputs": [
      {
       "ename": "TypeError",
       "evalue": "cannot concatenate 'str' and 'float' objects",
       "output_type": "pyerr",
       "traceback": [
        "\u001b[0;31m---------------------------------------------------------------------------\u001b[0m\n\u001b[0;31mTypeError\u001b[0m                                 Traceback (most recent call last)",
        "\u001b[0;32m<ipython-input-233-0eeb048263f7>\u001b[0m in \u001b[0;36m<module>\u001b[0;34m()\u001b[0m\n\u001b[1;32m      9\u001b[0m \u001b[0mplt\u001b[0m\u001b[0;34m.\u001b[0m\u001b[0mplot\u001b[0m\u001b[0;34m(\u001b[0m\u001b[0mdf_scoreboard\u001b[0m\u001b[0;34m[\u001b[0m\u001b[0;34m'Score'\u001b[0m\u001b[0;34m]\u001b[0m\u001b[0;34m)\u001b[0m\u001b[0;34m\u001b[0m\u001b[0m\n\u001b[1;32m     10\u001b[0m \u001b[0;34m\u001b[0m\u001b[0m\n\u001b[0;32m---> 11\u001b[0;31m \u001b[0;32mprint\u001b[0m \u001b[0mdf_scoreboard\u001b[0m\u001b[0;34m.\u001b[0m\u001b[0mhist\u001b[0m\u001b[0;34m(\u001b[0m\u001b[0mbins\u001b[0m\u001b[0;34m=\u001b[0m\u001b[0;36m50\u001b[0m\u001b[0;34m)\u001b[0m\u001b[0;34m\u001b[0m\u001b[0m\n\u001b[0m",
        "\u001b[0;32m/Users/seamusocuinneagain/anaconda/lib/python2.7/site-packages/pandas/tools/plotting.pyc\u001b[0m in \u001b[0;36mhist_frame\u001b[0;34m(data, column, by, grid, xlabelsize, xrot, ylabelsize, yrot, ax, sharex, sharey, figsize, layout, bins, **kwds)\u001b[0m\n\u001b[1;32m   2547\u001b[0m         \u001b[0max\u001b[0m\u001b[0;34m.\u001b[0m\u001b[0mxaxis\u001b[0m\u001b[0;34m.\u001b[0m\u001b[0mset_visible\u001b[0m\u001b[0;34m(\u001b[0m\u001b[0mTrue\u001b[0m\u001b[0;34m)\u001b[0m\u001b[0;34m\u001b[0m\u001b[0m\n\u001b[1;32m   2548\u001b[0m         \u001b[0max\u001b[0m\u001b[0;34m.\u001b[0m\u001b[0myaxis\u001b[0m\u001b[0;34m.\u001b[0m\u001b[0mset_visible\u001b[0m\u001b[0;34m(\u001b[0m\u001b[0mTrue\u001b[0m\u001b[0;34m)\u001b[0m\u001b[0;34m\u001b[0m\u001b[0m\n\u001b[0;32m-> 2549\u001b[0;31m         \u001b[0max\u001b[0m\u001b[0;34m.\u001b[0m\u001b[0mhist\u001b[0m\u001b[0;34m(\u001b[0m\u001b[0mdata\u001b[0m\u001b[0;34m[\u001b[0m\u001b[0mcol\u001b[0m\u001b[0;34m]\u001b[0m\u001b[0;34m.\u001b[0m\u001b[0mdropna\u001b[0m\u001b[0;34m(\u001b[0m\u001b[0;34m)\u001b[0m\u001b[0;34m.\u001b[0m\u001b[0mvalues\u001b[0m\u001b[0;34m,\u001b[0m \u001b[0mbins\u001b[0m\u001b[0;34m=\u001b[0m\u001b[0mbins\u001b[0m\u001b[0;34m,\u001b[0m \u001b[0;34m**\u001b[0m\u001b[0mkwds\u001b[0m\u001b[0;34m)\u001b[0m\u001b[0;34m\u001b[0m\u001b[0m\n\u001b[0m\u001b[1;32m   2550\u001b[0m         \u001b[0max\u001b[0m\u001b[0;34m.\u001b[0m\u001b[0mset_title\u001b[0m\u001b[0;34m(\u001b[0m\u001b[0mcol\u001b[0m\u001b[0;34m)\u001b[0m\u001b[0;34m\u001b[0m\u001b[0m\n\u001b[1;32m   2551\u001b[0m         \u001b[0max\u001b[0m\u001b[0;34m.\u001b[0m\u001b[0mgrid\u001b[0m\u001b[0;34m(\u001b[0m\u001b[0mgrid\u001b[0m\u001b[0;34m)\u001b[0m\u001b[0;34m\u001b[0m\u001b[0m\n",
        "\u001b[0;32m/Users/seamusocuinneagain/anaconda/lib/python2.7/site-packages/matplotlib/axes.pyc\u001b[0m in \u001b[0;36mhist\u001b[0;34m(self, x, bins, range, normed, weights, cumulative, bottom, histtype, align, orientation, rwidth, log, color, label, stacked, **kwargs)\u001b[0m\n\u001b[1;32m   8324\u001b[0m             \u001b[0;31m# this will automatically overwrite bins,\u001b[0m\u001b[0;34m\u001b[0m\u001b[0;34m\u001b[0m\u001b[0m\n\u001b[1;32m   8325\u001b[0m             \u001b[0;31m# so that each histogram uses the same bins\u001b[0m\u001b[0;34m\u001b[0m\u001b[0;34m\u001b[0m\u001b[0m\n\u001b[0;32m-> 8326\u001b[0;31m             \u001b[0mm\u001b[0m\u001b[0;34m,\u001b[0m \u001b[0mbins\u001b[0m \u001b[0;34m=\u001b[0m \u001b[0mnp\u001b[0m\u001b[0;34m.\u001b[0m\u001b[0mhistogram\u001b[0m\u001b[0;34m(\u001b[0m\u001b[0mx\u001b[0m\u001b[0;34m[\u001b[0m\u001b[0mi\u001b[0m\u001b[0;34m]\u001b[0m\u001b[0;34m,\u001b[0m \u001b[0mbins\u001b[0m\u001b[0;34m,\u001b[0m \u001b[0mweights\u001b[0m\u001b[0;34m=\u001b[0m\u001b[0mw\u001b[0m\u001b[0;34m[\u001b[0m\u001b[0mi\u001b[0m\u001b[0;34m]\u001b[0m\u001b[0;34m,\u001b[0m \u001b[0;34m**\u001b[0m\u001b[0mhist_kwargs\u001b[0m\u001b[0;34m)\u001b[0m\u001b[0;34m\u001b[0m\u001b[0m\n\u001b[0m\u001b[1;32m   8327\u001b[0m             \u001b[0mm\u001b[0m \u001b[0;34m=\u001b[0m \u001b[0mm\u001b[0m\u001b[0;34m.\u001b[0m\u001b[0mastype\u001b[0m\u001b[0;34m(\u001b[0m\u001b[0mfloat\u001b[0m\u001b[0;34m)\u001b[0m \u001b[0;31m# causes problems later if it's an int\u001b[0m\u001b[0;34m\u001b[0m\u001b[0m\n\u001b[1;32m   8328\u001b[0m             \u001b[0;32mif\u001b[0m \u001b[0mmlast\u001b[0m \u001b[0;32mis\u001b[0m \u001b[0mNone\u001b[0m\u001b[0;34m:\u001b[0m\u001b[0;34m\u001b[0m\u001b[0m\n",
        "\u001b[0;32m/Users/seamusocuinneagain/anaconda/lib/python2.7/site-packages/numpy/lib/function_base.pyc\u001b[0m in \u001b[0;36mhistogram\u001b[0;34m(a, bins, range, normed, weights, density)\u001b[0m\n\u001b[1;32m    174\u001b[0m             \u001b[0;32melse\u001b[0m\u001b[0;34m:\u001b[0m\u001b[0;34m\u001b[0m\u001b[0m\n\u001b[1;32m    175\u001b[0m                 \u001b[0mrange\u001b[0m \u001b[0;34m=\u001b[0m \u001b[0;34m(\u001b[0m\u001b[0ma\u001b[0m\u001b[0;34m.\u001b[0m\u001b[0mmin\u001b[0m\u001b[0;34m(\u001b[0m\u001b[0;34m)\u001b[0m\u001b[0;34m,\u001b[0m \u001b[0ma\u001b[0m\u001b[0;34m.\u001b[0m\u001b[0mmax\u001b[0m\u001b[0;34m(\u001b[0m\u001b[0;34m)\u001b[0m\u001b[0;34m)\u001b[0m\u001b[0;34m\u001b[0m\u001b[0m\n\u001b[0;32m--> 176\u001b[0;31m         \u001b[0mmn\u001b[0m\u001b[0;34m,\u001b[0m \u001b[0mmx\u001b[0m \u001b[0;34m=\u001b[0m \u001b[0;34m[\u001b[0m\u001b[0mmi\u001b[0m\u001b[0;34m+\u001b[0m\u001b[0;36m0.0\u001b[0m \u001b[0;32mfor\u001b[0m \u001b[0mmi\u001b[0m \u001b[0;32min\u001b[0m \u001b[0mrange\u001b[0m\u001b[0;34m]\u001b[0m\u001b[0;34m\u001b[0m\u001b[0m\n\u001b[0m\u001b[1;32m    177\u001b[0m         \u001b[0;32mif\u001b[0m \u001b[0mmn\u001b[0m \u001b[0;34m==\u001b[0m \u001b[0mmx\u001b[0m\u001b[0;34m:\u001b[0m\u001b[0;34m\u001b[0m\u001b[0m\n\u001b[1;32m    178\u001b[0m             \u001b[0mmn\u001b[0m \u001b[0;34m-=\u001b[0m \u001b[0;36m0.5\u001b[0m\u001b[0;34m\u001b[0m\u001b[0m\n",
        "\u001b[0;31mTypeError\u001b[0m: cannot concatenate 'str' and 'float' objects"
       ]
      },
      {
       "metadata": {},
       "output_type": "display_data",
       "png": "[encoded data removed]",
       "text": [
        "<matplotlib.figure.Figure at 0x113f17a50>"
       ]
      },
      {
       "metadata": {},
       "output_type": "display_data",
       "png": "[encoded data removed]",
       "text": [
        "<matplotlib.figure.Figure at 0x1189aafd0>"
       ]
      }
     ],
     "prompt_number": 233
    },
    {
     "cell_type": "code",
     "collapsed": false,
     "input": [
      "#gridsearch using accuracy scores    zzz\n",
      "\n",
      "\n",
      " #sklearn.metrics.accuracy_score(y_true, y_pred, normalize=True, sample_weight=None)\u00b6\n",
      "    \n",
      "    \n",
      "    \n",
      "    # use gridsearch to find best paramaters\n",
      "#zzzz\n",
      "\n",
      "from sklearn.grid_search import GridSearchCV\n",
      "import time\n",
      "\n",
      " \n",
      "X,y,z =cern.get_main_df('train','1jet',1)\n",
      "offset = int(X.shape[0] * 0.9)\n",
      "\n",
      " \n",
      "X_train, y_train, = X[:offset], y[:offset]\n",
      " \n",
      "X_test, y_test= X[offset:], y[offset:]\n",
      "\n",
      "start_time = time.time()\n",
      "\n",
      "paramgrid={ 'learning_rate':[0.01],\n",
      "               'max_depth':[10,9],\n",
      "               'min_samples_leaf':[40],\n",
      "               'max_features':[0.35]\n",
      "\n",
      "}\n",
      "\n",
      "est = ensemble.GradientBoostingClassifier(n_estimators=100)\n",
      "\n",
      "gs_cv=GridSearchCV(est,paramgrid,scoring= 'accuracy').fit(X_train,y_train)\n",
      "print \"best hyper paramaters %r\" % gs_cv.best_params_\n",
      "finish_time = time.time()\n",
      "duration=  finish_time-start_time\n",
      "print \"duration\", duration"
     ],
     "language": "python",
     "metadata": {},
     "outputs": [
      {
       "output_type": "stream",
       "stream": "stdout",
       "text": [
        "('get data frame for ', 'train', '1jet', 1)\n",
        "set train labels"
       ]
      },
      {
       "output_type": "stream",
       "stream": "stdout",
       "text": [
        "\n",
        "('number of train labels', 69982)\n",
        "Strip nan values\n",
        "best hyper paramaters {'max_features': 0.35, 'learning_rate': 0.01, 'max_depth': 10, 'min_samples_leaf': 40}"
       ]
      },
      {
       "output_type": "stream",
       "stream": "stdout",
       "text": [
        "\n",
        "duration 369.326601028\n"
       ]
      }
     ],
     "prompt_number": 118
    },
    {
     "cell_type": "code",
     "collapsed": false,
     "input": [
      "print X.shape\n",
      "print y.shape\n",
      "print z[0:9]"
     ],
     "language": "python",
     "metadata": {},
     "outputs": [
      {
       "output_type": "stream",
       "stream": "stdout",
       "text": [
        "(69982, 23)\n",
        "(69982,)\n",
        "[  2.23358449e+00   1.86361167e-02   1.50187016e-03   1.68161144e+00\n",
        "   1.45484847e+00   1.50270483e-03   1.50270483e-03   2.38022400e+00\n",
        "   1.68161144e+00]"
       ]
      },
      {
       "output_type": "stream",
       "stream": "stdout",
       "text": [
        "\n"
       ]
      }
     ],
     "prompt_number": 123
    },
    {
     "cell_type": "code",
     "collapsed": false,
     "input": [
      "from sklearn import metrics\n",
      "\n",
      "def accuracy_score(known_true,predicted):\n",
      "    res = metrics.accuracy_score([1,0,1,0], [1,1,1,1], normalize=True, sample_weight=None)\n",
      "    print res                                                     \n",
      "accuracy_score(1,1)                                                   "
     ],
     "language": "python",
     "metadata": {},
     "outputs": [],
     "prompt_number": 96
    },
    {
     "cell_type": "code",
     "collapsed": false,
     "input": [
      "\n",
      "def adjust_weights(given_result,given_weight):\n",
      "\n",
      "adjust_fold_weight = pd.DataFrame()\n",
      "adjust_fold_weight['given_label']=given_label\n",
      "adjust_fold_weight['given_weight']=given_weight\n",
      "\n",
      "return_updated_weights = res.apply(update_fold_weight, axis=1)\n",
      "\n",
      "\n",
      "     res['true_label']=true_label\n",
      "     res = res.apply(get_true, axis=1)\n",
      "     print res.head(30)\n",
      "    total_hat_weight = hat_result.sum()\n",
      "    if s_or_b == 's':\n",
      "        total_weight = 691.988\n",
      "    else:\n",
      "        total_weight = 41099\n",
      "        \n",
      "        def update_fold_weight(x):\n",
      "    if (x['given_label'] ==x['true_label'] and (x['true_label']==1)):\n",
      "       x['good_s']=x['weight']\n",
      "    elif (x['hat'] !=x['true_label'] and (x['hat']==1)):\n",
      "        x['bad_s']=x['weight']\n",
      "    return x\n",
      "    \n",
      "    \n",
      "        "
     ],
     "language": "python",
     "metadata": {},
     "outputs": [],
     "prompt_number": 107
    },
    {
     "cell_type": "code",
     "collapsed": false,
     "input": [
      "print y_train.head()\n",
      "print X_train.shape\n",
      "print y_train.shape\n",
      "print z_train.shape\n",
      "\n",
      "\n",
      "adjust_weights ({1,2,3,4,5,6,7},'s')"
     ],
     "language": "python",
     "metadata": {},
     "outputs": [
      {
       "ename": "AttributeError",
       "evalue": "'numpy.ndarray' object has no attribute 'head'",
       "output_type": "pyerr",
       "traceback": [
        "\u001b[0;31m---------------------------------------------------------------------------\u001b[0m\n\u001b[0;31mAttributeError\u001b[0m                            Traceback (most recent call last)",
        "\u001b[0;32m<ipython-input-117-b939149cf560>\u001b[0m in \u001b[0;36m<module>\u001b[0;34m()\u001b[0m\n\u001b[0;32m----> 1\u001b[0;31m \u001b[0;32mprint\u001b[0m \u001b[0my_train\u001b[0m\u001b[0;34m.\u001b[0m\u001b[0mhead\u001b[0m\u001b[0;34m(\u001b[0m\u001b[0;34m)\u001b[0m\u001b[0;34m\u001b[0m\u001b[0m\n\u001b[0m\u001b[1;32m      2\u001b[0m \u001b[0;32mprint\u001b[0m \u001b[0mX_train\u001b[0m\u001b[0;34m.\u001b[0m\u001b[0mshape\u001b[0m\u001b[0;34m\u001b[0m\u001b[0m\n\u001b[1;32m      3\u001b[0m \u001b[0;32mprint\u001b[0m \u001b[0my_train\u001b[0m\u001b[0;34m.\u001b[0m\u001b[0mshape\u001b[0m\u001b[0;34m\u001b[0m\u001b[0m\n\u001b[1;32m      4\u001b[0m \u001b[0;32mprint\u001b[0m \u001b[0mz_train\u001b[0m\u001b[0;34m.\u001b[0m\u001b[0mshape\u001b[0m\u001b[0;34m\u001b[0m\u001b[0m\n\u001b[1;32m      5\u001b[0m \u001b[0;34m\u001b[0m\u001b[0m\n",
        "\u001b[0;31mAttributeError\u001b[0m: 'numpy.ndarray' object has no attribute 'head'"
       ]
      }
     ],
     "prompt_number": 117
    },
    {
     "cell_type": "code",
     "collapsed": false,
     "input": [
      "write_final_file()"
     ],
     "language": "python",
     "metadata": {},
     "outputs": [
      {
       "ename": "NameError",
       "evalue": "name 'write_final_file' is not defined",
       "output_type": "pyerr",
       "traceback": [
        "\u001b[0;31m---------------------------------------------------------------------------\u001b[0m\n\u001b[0;31mNameError\u001b[0m                                 Traceback (most recent call last)",
        "\u001b[0;32m<ipython-input-11-437f5494f28a>\u001b[0m in \u001b[0;36m<module>\u001b[0;34m()\u001b[0m\n\u001b[0;32m----> 1\u001b[0;31m \u001b[0mwrite_final_file\u001b[0m\u001b[0;34m(\u001b[0m\u001b[0;34m)\u001b[0m\u001b[0;34m\u001b[0m\u001b[0m\n\u001b[0m",
        "\u001b[0;31mNameError\u001b[0m: name 'write_final_file' is not defined"
       ]
      }
     ],
     "prompt_number": 11
    },
    {
     "cell_type": "code",
     "collapsed": false,
     "input": [
      " cern.write_final_file()"
     ],
     "language": "python",
     "metadata": {},
     "outputs": [
      {
       "output_type": "stream",
       "stream": "stdout",
       "text": [
        "         RankOrder Class\n",
        "EventId                 \n",
        "350000           1     b\n",
        "350002           2     b\n",
        "350002           3     b\n",
        "350002           4     b\n",
        "350002           5     b\n",
        "file reindexed and written to cern.csv,ready to upolad"
       ]
      },
      {
       "output_type": "stream",
       "stream": "stdout",
       "text": [
        "\n"
       ]
      }
     ],
     "prompt_number": 12
    },
    {
     "cell_type": "code",
     "collapsed": false,
     "input": [],
     "language": "python",
     "metadata": {},
     "outputs": []
    }
   ],
   "metadata": {}
  }
 ]
}
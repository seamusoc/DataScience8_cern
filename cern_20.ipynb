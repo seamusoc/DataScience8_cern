{
 "metadata": {
  "name": "",
  "signature": "sha256:42ed2dd3afa6bc7fecdaabae26f83072d933837470526f26b7ff18dd7ab8ec1d"
 },
 "nbformat": 3,
 "nbformat_minor": 0,
 "worksheets": [
  {
   "cells": [
    {
     "cell_type": "markdown",
     "metadata": {},
     "source": [
      "James Cunningham\n",
      "\n",
      "Overview:  use Scikit-learn Gradient boosting to train classifier for Cern data.  Goal is to train model to identify Higgs events( refered to as signal) from background events. \n",
      "\n",
      "Moved load routines to cern.py \n",
      "Removed Nan Columns by subdividing training file into 5 subgroups[0mass,0jet,1jet,2jet,3jet]\n",
      "\n",
      "used folds for cross validation x,y,z = training_data,Label, Weight\n",
      "\n",
      "Used AMS metric to measure how effective model is. Uses provided weights to score result.\n",
      "\n",
      "Manually adjusted Gradient boosting params to improve training.Loss function is deviance (required for Gradient boosting classifier)\n",
      "\n",
      " params = {'n_estimators': 100, 'max_depth': 6, 'min_samples_leaf':100,'loss': 'deviance','verbose':1}\n",
      "\n",
      "Most important params 'n_estimators','max_depth': 6\n",
      "\n",
      "Created and optimised  for each of the subgroups[0mass,0jet,1jet,2jet,3jet]\n",
      "\n",
      "Ran models on provided test data (which had no labels,Seperate ipython notebook) and submitted result. Best ams score 3.4,approx 50 percentile on kaggle competetion.\n",
      "\n"
     ]
    },
    {
     "cell_type": "code",
     "collapsed": false,
     "input": [
      "%matplotlib inline\n",
      "import cern\n",
      "import pandas as pd\n",
      "import numpy as np\n",
      "import matplotlib.pyplot as plt\n",
      "\n",
      "import statsmodels.api as sm\n",
      "import numpy as np\n",
      "import matplotlib.pyplot as plt\n",
      "\n",
      "from sklearn import ensemble\n",
      "from sklearn import datasets\n",
      "from sklearn.utils import shuffle\n",
      "from sklearn.metrics import mean_squared_error\n"
     ],
     "language": "python",
     "metadata": {},
     "outputs": []
    },
    {
     "cell_type": "code",
     "collapsed": false,
     "input": [
      "#load raw taining file \n",
      "# Put cern routines in file to simplify/clarify Ipython notebook \n",
      "import cern as cern\n",
      " \n",
      "cern.load_raw_data() \n"
     ],
     "language": "python",
     "metadata": {},
     "outputs": [
      {
       "output_type": "stream",
       "stream": "stdout",
       "text": [
        "load raw data\n",
        "load test data\n",
        "('loaded', 550000)"
       ]
      },
      {
       "output_type": "stream",
       "stream": "stdout",
       "text": [
        "\n",
        "('loaded', 250000)"
       ]
      },
      {
       "output_type": "stream",
       "stream": "stdout",
       "text": [
        "\n"
       ]
      }
     ],
     "prompt_number": 2
    },
    {
     "cell_type": "code",
     "collapsed": false,
     "input": [
      "#load training data from file\n",
      "#print cern.df_test.head()\n",
      " \n",
      "# get first dataset :jet=0  (all where jet=0) [0mass,0jet,1jet,2jet,3jet]\n",
      "X,y,z =cern.get_main_df('train','0jet',0)\n",
      "\n",
      "# try 4 folds\n",
      "from sklearn import cross_validation\n",
      "kfold = cross_validation.KFold(X.shape[0], n_folds=4,)\n",
      "\n",
      "for train_index, test_index in kfold:\n",
      "   print len(train_index)\n",
      "   print(\"TRAIN:\", train_index, \"TEST:\", test_index)\n",
      "   \n",
      "    \n",
      "   X_train, X_test = X.iloc[train_index], X.iloc[test_index]\n",
      "   y_train, y_test = y[train_index], y[test_index] \n",
      "   \n",
      "#   params = {'n_estimators': 250, 'max_depth': 8, 'learning_rate': 0.01,'loss': 'deviance','verbose':1}\n",
      "# demo n_estimators=50, max_depth=5,min_samples_leaf=200,max_features=10\n",
      "   params = {'n_estimators': 100, 'max_depth': 6, 'min_samples_leaf':100,'loss': 'deviance','verbose':1}\n",
      "\n",
      "   clf = ensemble.GradientBoostingClassifier(**params)\n",
      "   clf.fit(X_train,y_train )\n",
      "   x_result= clf.predict_proba(X_test)\n",
      "  \n",
      "#calc ams\n",
      "\n",
      "   res = pd.DataFrame()\n",
      "    \n",
      "   res['hat']=x_result[:,0]\n",
      "   res['weight']=z[test_index]\n",
      "   res['true_label']=y[test_index]\n",
      "   #convert 1/0 to s/b \n",
      "   res['true_label'] = res['true_label'].apply(lambda x: 's' if x >=0.50  else 'b')\n",
      "   res['hat'] =res['hat'].apply(lambda x: 's' if x >=0.85  else 'b') \n",
      "   res['good_s'] =''\n",
      "   res['bad_s'] =''\n",
      "   res = res.apply(get_true, axis=1)\n",
      "   print \"calc_ams:-\" \n",
      "   calc_ams()\n",
      "#grid opt\n",
      "  \n",
      "    "
     ],
     "language": "python",
     "metadata": {},
     "outputs": [
      {
       "output_type": "stream",
       "stream": "stdout",
       "text": [
        "('get data frame for ', 'train', '0mass', 0)\n",
        "set train labels\n",
        "('number of train labels', 38114)\n",
        "Strip nan values\n",
        "19057"
       ]
      },
      {
       "output_type": "stream",
       "stream": "stdout",
       "text": [
        "\n",
        "('TRAIN:', array([19057, 19058, 19059, ..., 38111, 38112, 38113]), 'TEST:', array([    0,     1,     2, ..., 19054, 19055, 19056]))\n",
        "      Iter       Train Loss   Remaining Time \n",
        "         1           0.4827           13.67s"
       ]
      },
      {
       "output_type": "stream",
       "stream": "stdout",
       "text": [
        "\n",
        "         2           0.4566           12.03s"
       ]
      },
      {
       "output_type": "stream",
       "stream": "stdout",
       "text": [
        "\n",
        "         3           0.4361           11.34s"
       ]
      },
      {
       "output_type": "stream",
       "stream": "stdout",
       "text": [
        "\n",
        "         4           0.4204           10.99s"
       ]
      },
      {
       "output_type": "stream",
       "stream": "stdout",
       "text": [
        "\n",
        "         5           0.4082           10.81s"
       ]
      },
      {
       "output_type": "stream",
       "stream": "stdout",
       "text": [
        "\n",
        "         6           0.3976           10.67s"
       ]
      },
      {
       "output_type": "stream",
       "stream": "stdout",
       "text": [
        "\n",
        "         7           0.3890           10.51s"
       ]
      },
      {
       "output_type": "stream",
       "stream": "stdout",
       "text": [
        "\n",
        "         8           0.3809           10.43s"
       ]
      },
      {
       "output_type": "stream",
       "stream": "stdout",
       "text": [
        "\n",
        "         9           0.3745           10.38s"
       ]
      },
      {
       "output_type": "stream",
       "stream": "stdout",
       "text": [
        "\n",
        "        10           0.3683           10.28s"
       ]
      },
      {
       "output_type": "stream",
       "stream": "stdout",
       "text": [
        "\n",
        "        20           0.3318            8.94s"
       ]
      },
      {
       "output_type": "stream",
       "stream": "stdout",
       "text": [
        "\n",
        "        30           0.3135            7.74s"
       ]
      },
      {
       "output_type": "stream",
       "stream": "stdout",
       "text": [
        "\n",
        "        40           0.2994            6.61s"
       ]
      },
      {
       "output_type": "stream",
       "stream": "stdout",
       "text": [
        "\n",
        "        50           0.2902            5.49s"
       ]
      },
      {
       "output_type": "stream",
       "stream": "stdout",
       "text": [
        "\n",
        "        60           0.2822            4.36s"
       ]
      },
      {
       "output_type": "stream",
       "stream": "stdout",
       "text": [
        "\n",
        "        70           0.2749            3.22s"
       ]
      },
      {
       "output_type": "stream",
       "stream": "stdout",
       "text": [
        "\n",
        "        80           0.2688            2.11s"
       ]
      },
      {
       "output_type": "stream",
       "stream": "stdout",
       "text": [
        "\n",
        "        90           0.2618            1.05s"
       ]
      },
      {
       "output_type": "stream",
       "stream": "stdout",
       "text": [
        "\n",
        "       100           0.2572            0.00s"
       ]
      },
      {
       "output_type": "stream",
       "stream": "stdout",
       "text": [
        "\n",
        "calc_ams:-"
       ]
      },
      {
       "output_type": "stream",
       "stream": "stdout",
       "text": [
        "\n",
        "('s_weight multiplier b_weight multiplier', 158.38397834814165, 0.68589564567628869)\n",
        "train weight score:"
       ]
      },
      {
       "output_type": "stream",
       "stream": "stdout",
       "text": [
        "\n",
        "59920.1937774\n",
        "4.36905302681\n",
        "('good_s', 691.98800000000006, 'bad_s', 41099.0)\n",
        "s and b 691.988 - 41099.0\n",
        "3.40344292382\n",
        "--------------------------------\n",
        "test weight score:(hat):\n",
        "2.47808931252\n",
        "1.89096371428\n",
        "('hat_good_s', 299.4983559804175, 'hat_bad_s', 1.699710669057211)\n",
        "s and b 299.49835598 - 1.69971066906\n",
        "37.9868565269\n",
        "--------------------------------\n",
        "19057\n",
        "('TRAIN:', array([    0,     1,     2, ..., 19054, 19055, 19056]), 'TEST:', array([19057, 19058, 19059, ..., 38111, 38112, 38113]))\n",
        "      Iter       Train Loss   Remaining Time "
       ]
      },
      {
       "output_type": "stream",
       "stream": "stdout",
       "text": [
        "\n",
        "         1           0.4822           14.38s"
       ]
      },
      {
       "output_type": "stream",
       "stream": "stdout",
       "text": [
        "\n",
        "         2           0.4585           12.39s"
       ]
      },
      {
       "output_type": "stream",
       "stream": "stdout",
       "text": [
        "\n",
        "         3           0.4408           11.98s"
       ]
      },
      {
       "output_type": "stream",
       "stream": "stdout",
       "text": [
        "\n",
        "         4           0.4263           11.25s"
       ]
      },
      {
       "output_type": "stream",
       "stream": "stdout",
       "text": [
        "\n",
        "         5           0.4142           10.91s"
       ]
      },
      {
       "output_type": "stream",
       "stream": "stdout",
       "text": [
        "\n",
        "         6           0.4043           10.62s"
       ]
      },
      {
       "output_type": "stream",
       "stream": "stdout",
       "text": [
        "\n",
        "         7           0.3962           10.34s"
       ]
      },
      {
       "output_type": "stream",
       "stream": "stdout",
       "text": [
        "\n",
        "         8           0.3892           10.25s"
       ]
      },
      {
       "output_type": "stream",
       "stream": "stdout",
       "text": [
        "\n",
        "         9           0.3825           10.14s"
       ]
      },
      {
       "output_type": "stream",
       "stream": "stdout",
       "text": [
        "\n",
        "        10           0.3773            9.98s"
       ]
      },
      {
       "output_type": "stream",
       "stream": "stdout",
       "text": [
        "\n",
        "        20           0.3404            8.71s"
       ]
      },
      {
       "output_type": "stream",
       "stream": "stdout",
       "text": [
        "\n",
        "        30           0.3235            7.55s"
       ]
      },
      {
       "output_type": "stream",
       "stream": "stdout",
       "text": [
        "\n",
        "        40           0.3152            6.27s"
       ]
      },
      {
       "output_type": "stream",
       "stream": "stdout",
       "text": [
        "\n",
        "        50           0.3055            5.20s"
       ]
      },
      {
       "output_type": "stream",
       "stream": "stdout",
       "text": [
        "\n",
        "        60           0.2959            4.21s"
       ]
      },
      {
       "output_type": "stream",
       "stream": "stdout",
       "text": [
        "\n",
        "        70           0.2898            3.12s"
       ]
      },
      {
       "output_type": "stream",
       "stream": "stdout",
       "text": [
        "\n",
        "        80           0.2829            2.05s"
       ]
      },
      {
       "output_type": "stream",
       "stream": "stdout",
       "text": [
        "\n",
        "        90           0.2763            1.02s"
       ]
      },
      {
       "output_type": "stream",
       "stream": "stdout",
       "text": [
        "\n",
        "       100           0.2684            0.00s"
       ]
      },
      {
       "output_type": "stream",
       "stream": "stdout",
       "text": [
        "\n",
        "calc_ams:-"
       ]
      },
      {
       "output_type": "stream",
       "stream": "stdout",
       "text": [
        "\n",
        "('s_weight multiplier b_weight multiplier', 154.87773700982009, 0.68141720830130403)\n",
        "train weight score:"
       ]
      },
      {
       "output_type": "stream",
       "stream": "stdout",
       "text": [
        "\n",
        "60314.0036666\n",
        "4.46796300979\n",
        "('good_s', 691.98800000000006, 'bad_s', 41099.0)\n",
        "s and b 691.988 - 41099.0\n",
        "3.40344292382\n",
        "--------------------------------\n",
        "test weight score:(hat):\n",
        "2.40130570861\n",
        "2.06665730118\n",
        "('hat_good_s', 320.07920598153277, 'hat_bad_s', 1.6362910322398057)\n",
        "s and b 320.079205982 - 1.63629103224\n",
        "39.7798216641\n",
        "--------------------------------\n"
       ]
      }
     ],
     "prompt_number": 64
    },
    {
     "cell_type": "code",
     "collapsed": false,
     "input": [
      "#print x_result\n",
      "print x_result[0]\n",
      "#cern.ams (35.5845431273,394.727667043 )"
     ],
     "language": "python",
     "metadata": {},
     "outputs": [
      {
       "output_type": "stream",
       "stream": "stdout",
       "text": [
        "[ 0.82087687  0.17912313]\n"
       ]
      }
     ],
     "prompt_number": 16
    },
    {
     "cell_type": "code",
     "collapsed": false,
     "input": [
      "print type (res.good_s[1])\n",
      "res.head()\n",
      "\n",
      "res[ 'good_s'].head\n",
      "res['true_label'].head"
     ],
     "language": "python",
     "metadata": {},
     "outputs": [
      {
       "output_type": "stream",
       "stream": "stdout",
       "text": [
        "<type 'str'>\n"
       ]
      },
      {
       "metadata": {},
       "output_type": "pyout",
       "prompt_number": 6,
       "text": [
        "<bound method Series.head of 0     b\n",
        "1     b\n",
        "2     b\n",
        "3     b\n",
        "4     s\n",
        "5     s\n",
        "6     b\n",
        "7     b\n",
        "8     b\n",
        "9     b\n",
        "10    s\n",
        "11    s\n",
        "12    s\n",
        "13    b\n",
        "14    b\n",
        "...\n",
        "18433    s\n",
        "18434    b\n",
        "18435    b\n",
        "18436    s\n",
        "18437    b\n",
        "18438    b\n",
        "18439    b\n",
        "18440    b\n",
        "18441    b\n",
        "18442    b\n",
        "18443    b\n",
        "18444    b\n",
        "18445    b\n",
        "18446    b\n",
        "18447    b\n",
        "Name: true_label, Length: 18448, dtype: object>"
       ]
      }
     ],
     "prompt_number": 6
    },
    {
     "cell_type": "code",
     "collapsed": false,
     "input": [
      "\n",
      "def set_hat_good_weight(x):\n",
      "      \n",
      "    if (x['hat'] =='s' and (x['true_label']=='s')):   \n",
      "       return x['weight'] \n",
      "\n",
      "def set_hat_bad_weight(x):\n",
      "    \n",
      "    if (x['hat'] =='b' and (x['true_label']=='s')):\n",
      "         return x['weight']\n",
      "            \n",
      "\n",
      "#print res.head(20)\n",
      "\n",
      "res['hat_good_s'] = res.apply(set_hat_good_weight, axis=1)\n",
      "res['hat_bad_s'] = res.apply(set_hat_bad_weight, axis=1)\n"
     ],
     "language": "python",
     "metadata": {},
     "outputs": [
      {
       "ename": "NameError",
       "evalue": "name 'res' is not defined",
       "output_type": "pyerr",
       "traceback": [
        "\u001b[0;31m---------------------------------------------------------------------------\u001b[0m\n\u001b[0;31mNameError\u001b[0m                                 Traceback (most recent call last)",
        "\u001b[0;32m<ipython-input-3-28c027a82320>\u001b[0m in \u001b[0;36m<module>\u001b[0;34m()\u001b[0m\n\u001b[1;32m     13\u001b[0m \u001b[0;31m#print res.head(20)\u001b[0m\u001b[0;34m\u001b[0m\u001b[0;34m\u001b[0m\u001b[0m\n\u001b[1;32m     14\u001b[0m \u001b[0;34m\u001b[0m\u001b[0m\n\u001b[0;32m---> 15\u001b[0;31m \u001b[0mres\u001b[0m\u001b[0;34m[\u001b[0m\u001b[0;34m'hat_good_s'\u001b[0m\u001b[0;34m]\u001b[0m \u001b[0;34m=\u001b[0m \u001b[0mres\u001b[0m\u001b[0;34m.\u001b[0m\u001b[0mapply\u001b[0m\u001b[0;34m(\u001b[0m\u001b[0mset_hat_good_weight\u001b[0m\u001b[0;34m,\u001b[0m \u001b[0maxis\u001b[0m\u001b[0;34m=\u001b[0m\u001b[0;36m1\u001b[0m\u001b[0;34m)\u001b[0m\u001b[0;34m\u001b[0m\u001b[0m\n\u001b[0m\u001b[1;32m     16\u001b[0m \u001b[0mres\u001b[0m\u001b[0;34m[\u001b[0m\u001b[0;34m'hat_bad_s'\u001b[0m\u001b[0;34m]\u001b[0m \u001b[0;34m=\u001b[0m \u001b[0mres\u001b[0m\u001b[0;34m.\u001b[0m\u001b[0mapply\u001b[0m\u001b[0;34m(\u001b[0m\u001b[0mset_hat_bad_weight\u001b[0m\u001b[0;34m,\u001b[0m \u001b[0maxis\u001b[0m\u001b[0;34m=\u001b[0m\u001b[0;36m1\u001b[0m\u001b[0;34m)\u001b[0m\u001b[0;34m\u001b[0m\u001b[0m\n",
        "\u001b[0;31mNameError\u001b[0m: name 'res' is not defined"
       ]
      }
     ],
     "prompt_number": 3
    },
    {
     "cell_type": "code",
     "collapsed": false,
     "input": [
      " def get_true(xx):\n",
      "    x=xx\n",
      "    \n",
      "    if (x['hat'] ==x['true_label'] and (x['true_label']=='s')):\n",
      "       x['good_s']=x['weight']\n",
      "       \n",
      "    elif (x['hat'] !=x['true_label'] and (x['hat']=='s')):\n",
      "        x['bad_s']=x['weight']\n",
      "         \n",
      "        \n",
      "    return x"
     ],
     "language": "python",
     "metadata": {},
     "outputs": [],
     "prompt_number": 22
    },
    {
     "cell_type": "code",
     "collapsed": false,
     "input": [
      "#res['hat'] =res['hat'].apply(lambda x: 's' if x >=0.50  else 'b') \n",
      "\n",
      "    \n",
      "res.head(40)\n",
      " \n",
      "\n"
     ],
     "language": "python",
     "metadata": {},
     "outputs": [
      {
       "html": [
        "<div style=\"max-height:1000px;max-width:1500px;overflow:auto;\">\n",
        "<table border=\"1\" class=\"dataframe\">\n",
        "  <thead>\n",
        "    <tr style=\"text-align: right;\">\n",
        "      <th></th>\n",
        "      <th>hat</th>\n",
        "      <th>weight</th>\n",
        "      <th>true_label</th>\n",
        "      <th>good_s</th>\n",
        "      <th>bad_s</th>\n",
        "      <th>hat_good_s</th>\n",
        "      <th>hat_bad_s</th>\n",
        "    </tr>\n",
        "  </thead>\n",
        "  <tbody>\n",
        "    <tr>\n",
        "      <th>0 </th>\n",
        "      <td> s</td>\n",
        "      <td> 5.355302</td>\n",
        "      <td> b</td>\n",
        "      <td>           0</td>\n",
        "      <td>  5.355302</td>\n",
        "      <td>NaN</td>\n",
        "      <td>      NaN</td>\n",
        "    </tr>\n",
        "    <tr>\n",
        "      <th>1 </th>\n",
        "      <td> s</td>\n",
        "      <td> 2.274423</td>\n",
        "      <td> b</td>\n",
        "      <td>           0</td>\n",
        "      <td>  2.274423</td>\n",
        "      <td>NaN</td>\n",
        "      <td>      NaN</td>\n",
        "    </tr>\n",
        "    <tr>\n",
        "      <th>2 </th>\n",
        "      <td> s</td>\n",
        "      <td> 2.559724</td>\n",
        "      <td> b</td>\n",
        "      <td>           0</td>\n",
        "      <td>  2.559724</td>\n",
        "      <td>NaN</td>\n",
        "      <td>      NaN</td>\n",
        "    </tr>\n",
        "    <tr>\n",
        "      <th>3 </th>\n",
        "      <td> b</td>\n",
        "      <td> 0.001503</td>\n",
        "      <td> s</td>\n",
        "      <td> 0.001502705</td>\n",
        "      <td>         0</td>\n",
        "      <td>NaN</td>\n",
        "      <td> 0.001503</td>\n",
        "    </tr>\n",
        "    <tr>\n",
        "      <th>4 </th>\n",
        "      <td> s</td>\n",
        "      <td> 4.780613</td>\n",
        "      <td> b</td>\n",
        "      <td>           0</td>\n",
        "      <td>  4.780613</td>\n",
        "      <td>NaN</td>\n",
        "      <td>      NaN</td>\n",
        "    </tr>\n",
        "    <tr>\n",
        "      <th>5 </th>\n",
        "      <td> s</td>\n",
        "      <td> 0.946014</td>\n",
        "      <td> b</td>\n",
        "      <td>           0</td>\n",
        "      <td> 0.9460141</td>\n",
        "      <td>NaN</td>\n",
        "      <td>      NaN</td>\n",
        "    </tr>\n",
        "    <tr>\n",
        "      <th>6 </th>\n",
        "      <td> s</td>\n",
        "      <td> 4.842680</td>\n",
        "      <td> b</td>\n",
        "      <td>           0</td>\n",
        "      <td>   4.84268</td>\n",
        "      <td>NaN</td>\n",
        "      <td>      NaN</td>\n",
        "    </tr>\n",
        "    <tr>\n",
        "      <th>7 </th>\n",
        "      <td> s</td>\n",
        "      <td> 2.173440</td>\n",
        "      <td> b</td>\n",
        "      <td>           0</td>\n",
        "      <td>   2.17344</td>\n",
        "      <td>NaN</td>\n",
        "      <td>      NaN</td>\n",
        "    </tr>\n",
        "    <tr>\n",
        "      <th>8 </th>\n",
        "      <td> s</td>\n",
        "      <td> 4.595202</td>\n",
        "      <td> b</td>\n",
        "      <td>           0</td>\n",
        "      <td>  4.595202</td>\n",
        "      <td>NaN</td>\n",
        "      <td>      NaN</td>\n",
        "    </tr>\n",
        "    <tr>\n",
        "      <th>9 </th>\n",
        "      <td> b</td>\n",
        "      <td> 0.926603</td>\n",
        "      <td> b</td>\n",
        "      <td>           0</td>\n",
        "      <td> 0.9266026</td>\n",
        "      <td>NaN</td>\n",
        "      <td>      NaN</td>\n",
        "    </tr>\n",
        "    <tr>\n",
        "      <th>10</th>\n",
        "      <td> b</td>\n",
        "      <td> 0.823761</td>\n",
        "      <td> b</td>\n",
        "      <td>           0</td>\n",
        "      <td> 0.8237605</td>\n",
        "      <td>NaN</td>\n",
        "      <td>      NaN</td>\n",
        "    </tr>\n",
        "    <tr>\n",
        "      <th>11</th>\n",
        "      <td> b</td>\n",
        "      <td> 0.001503</td>\n",
        "      <td> s</td>\n",
        "      <td> 0.001502705</td>\n",
        "      <td>         0</td>\n",
        "      <td>NaN</td>\n",
        "      <td> 0.001503</td>\n",
        "    </tr>\n",
        "    <tr>\n",
        "      <th>12</th>\n",
        "      <td> s</td>\n",
        "      <td> 5.038179</td>\n",
        "      <td> b</td>\n",
        "      <td>           0</td>\n",
        "      <td>  5.038179</td>\n",
        "      <td>NaN</td>\n",
        "      <td>      NaN</td>\n",
        "    </tr>\n",
        "    <tr>\n",
        "      <th>13</th>\n",
        "      <td> s</td>\n",
        "      <td> 4.810748</td>\n",
        "      <td> b</td>\n",
        "      <td>           0</td>\n",
        "      <td>  4.810748</td>\n",
        "      <td>NaN</td>\n",
        "      <td>      NaN</td>\n",
        "    </tr>\n",
        "    <tr>\n",
        "      <th>14</th>\n",
        "      <td> s</td>\n",
        "      <td> 4.650789</td>\n",
        "      <td> b</td>\n",
        "      <td>           0</td>\n",
        "      <td>  4.650789</td>\n",
        "      <td>NaN</td>\n",
        "      <td>      NaN</td>\n",
        "    </tr>\n",
        "    <tr>\n",
        "      <th>15</th>\n",
        "      <td> s</td>\n",
        "      <td> 4.779979</td>\n",
        "      <td> b</td>\n",
        "      <td>           0</td>\n",
        "      <td>  4.779979</td>\n",
        "      <td>NaN</td>\n",
        "      <td>      NaN</td>\n",
        "    </tr>\n",
        "    <tr>\n",
        "      <th>16</th>\n",
        "      <td> s</td>\n",
        "      <td> 1.173902</td>\n",
        "      <td> b</td>\n",
        "      <td>           0</td>\n",
        "      <td>  1.173902</td>\n",
        "      <td>NaN</td>\n",
        "      <td>      NaN</td>\n",
        "    </tr>\n",
        "    <tr>\n",
        "      <th>17</th>\n",
        "      <td> s</td>\n",
        "      <td> 4.699161</td>\n",
        "      <td> b</td>\n",
        "      <td>           0</td>\n",
        "      <td>  4.699161</td>\n",
        "      <td>NaN</td>\n",
        "      <td>      NaN</td>\n",
        "    </tr>\n",
        "    <tr>\n",
        "      <th>18</th>\n",
        "      <td> s</td>\n",
        "      <td> 2.075582</td>\n",
        "      <td> b</td>\n",
        "      <td>           0</td>\n",
        "      <td>  2.075582</td>\n",
        "      <td>NaN</td>\n",
        "      <td>      NaN</td>\n",
        "    </tr>\n",
        "    <tr>\n",
        "      <th>19</th>\n",
        "      <td> s</td>\n",
        "      <td> 4.929202</td>\n",
        "      <td> b</td>\n",
        "      <td>           0</td>\n",
        "      <td>  4.929202</td>\n",
        "      <td>NaN</td>\n",
        "      <td>      NaN</td>\n",
        "    </tr>\n",
        "    <tr>\n",
        "      <th>20</th>\n",
        "      <td> s</td>\n",
        "      <td> 4.933376</td>\n",
        "      <td> b</td>\n",
        "      <td>           0</td>\n",
        "      <td>  4.933376</td>\n",
        "      <td>NaN</td>\n",
        "      <td>      NaN</td>\n",
        "    </tr>\n",
        "    <tr>\n",
        "      <th>21</th>\n",
        "      <td> s</td>\n",
        "      <td> 4.415975</td>\n",
        "      <td> b</td>\n",
        "      <td>           0</td>\n",
        "      <td>  4.415975</td>\n",
        "      <td>NaN</td>\n",
        "      <td>      NaN</td>\n",
        "    </tr>\n",
        "    <tr>\n",
        "      <th>22</th>\n",
        "      <td> s</td>\n",
        "      <td> 3.021578</td>\n",
        "      <td> b</td>\n",
        "      <td>           0</td>\n",
        "      <td>  3.021578</td>\n",
        "      <td>NaN</td>\n",
        "      <td>      NaN</td>\n",
        "    </tr>\n",
        "    <tr>\n",
        "      <th>23</th>\n",
        "      <td> s</td>\n",
        "      <td> 4.721293</td>\n",
        "      <td> b</td>\n",
        "      <td>           0</td>\n",
        "      <td>  4.721293</td>\n",
        "      <td>NaN</td>\n",
        "      <td>      NaN</td>\n",
        "    </tr>\n",
        "    <tr>\n",
        "      <th>24</th>\n",
        "      <td> b</td>\n",
        "      <td> 4.789500</td>\n",
        "      <td> b</td>\n",
        "      <td>           0</td>\n",
        "      <td>    4.7895</td>\n",
        "      <td>NaN</td>\n",
        "      <td>      NaN</td>\n",
        "    </tr>\n",
        "    <tr>\n",
        "      <th>25</th>\n",
        "      <td> s</td>\n",
        "      <td> 1.746824</td>\n",
        "      <td> b</td>\n",
        "      <td>           0</td>\n",
        "      <td>  1.746824</td>\n",
        "      <td>NaN</td>\n",
        "      <td>      NaN</td>\n",
        "    </tr>\n",
        "    <tr>\n",
        "      <th>26</th>\n",
        "      <td> s</td>\n",
        "      <td> 2.374647</td>\n",
        "      <td> b</td>\n",
        "      <td>           0</td>\n",
        "      <td>  2.374647</td>\n",
        "      <td>NaN</td>\n",
        "      <td>      NaN</td>\n",
        "    </tr>\n",
        "    <tr>\n",
        "      <th>27</th>\n",
        "      <td> s</td>\n",
        "      <td> 2.152226</td>\n",
        "      <td> b</td>\n",
        "      <td>           0</td>\n",
        "      <td>  2.152226</td>\n",
        "      <td>NaN</td>\n",
        "      <td>      NaN</td>\n",
        "    </tr>\n",
        "    <tr>\n",
        "      <th>28</th>\n",
        "      <td> b</td>\n",
        "      <td> 0.001503</td>\n",
        "      <td> s</td>\n",
        "      <td> 0.001502705</td>\n",
        "      <td>         0</td>\n",
        "      <td>NaN</td>\n",
        "      <td> 0.001503</td>\n",
        "    </tr>\n",
        "    <tr>\n",
        "      <th>29</th>\n",
        "      <td> b</td>\n",
        "      <td> 0.001502</td>\n",
        "      <td> s</td>\n",
        "      <td>  0.00150187</td>\n",
        "      <td>         0</td>\n",
        "      <td>NaN</td>\n",
        "      <td> 0.001502</td>\n",
        "    </tr>\n",
        "    <tr>\n",
        "      <th>30</th>\n",
        "      <td> s</td>\n",
        "      <td> 0.744056</td>\n",
        "      <td> b</td>\n",
        "      <td>           0</td>\n",
        "      <td> 0.7440562</td>\n",
        "      <td>NaN</td>\n",
        "      <td>      NaN</td>\n",
        "    </tr>\n",
        "    <tr>\n",
        "      <th>31</th>\n",
        "      <td> s</td>\n",
        "      <td> 0.947223</td>\n",
        "      <td> b</td>\n",
        "      <td>           0</td>\n",
        "      <td>  0.947223</td>\n",
        "      <td>NaN</td>\n",
        "      <td>      NaN</td>\n",
        "    </tr>\n",
        "    <tr>\n",
        "      <th>32</th>\n",
        "      <td> s</td>\n",
        "      <td> 2.906712</td>\n",
        "      <td> b</td>\n",
        "      <td>           0</td>\n",
        "      <td>  2.906712</td>\n",
        "      <td>NaN</td>\n",
        "      <td>      NaN</td>\n",
        "    </tr>\n",
        "    <tr>\n",
        "      <th>33</th>\n",
        "      <td> s</td>\n",
        "      <td> 4.942305</td>\n",
        "      <td> b</td>\n",
        "      <td>           0</td>\n",
        "      <td>  4.942305</td>\n",
        "      <td>NaN</td>\n",
        "      <td>      NaN</td>\n",
        "    </tr>\n",
        "    <tr>\n",
        "      <th>34</th>\n",
        "      <td> s</td>\n",
        "      <td> 2.105831</td>\n",
        "      <td> b</td>\n",
        "      <td>           0</td>\n",
        "      <td>  2.105831</td>\n",
        "      <td>NaN</td>\n",
        "      <td>      NaN</td>\n",
        "    </tr>\n",
        "    <tr>\n",
        "      <th>35</th>\n",
        "      <td> s</td>\n",
        "      <td> 4.630613</td>\n",
        "      <td> b</td>\n",
        "      <td>           0</td>\n",
        "      <td>  4.630613</td>\n",
        "      <td>NaN</td>\n",
        "      <td>      NaN</td>\n",
        "    </tr>\n",
        "    <tr>\n",
        "      <th>36</th>\n",
        "      <td> s</td>\n",
        "      <td> 1.922072</td>\n",
        "      <td> b</td>\n",
        "      <td>           0</td>\n",
        "      <td>  1.922072</td>\n",
        "      <td>NaN</td>\n",
        "      <td>      NaN</td>\n",
        "    </tr>\n",
        "    <tr>\n",
        "      <th>37</th>\n",
        "      <td> s</td>\n",
        "      <td> 2.251351</td>\n",
        "      <td> b</td>\n",
        "      <td>           0</td>\n",
        "      <td>  2.251351</td>\n",
        "      <td>NaN</td>\n",
        "      <td>      NaN</td>\n",
        "    </tr>\n",
        "    <tr>\n",
        "      <th>38</th>\n",
        "      <td> b</td>\n",
        "      <td> 0.001502</td>\n",
        "      <td> s</td>\n",
        "      <td>  0.00150187</td>\n",
        "      <td>         0</td>\n",
        "      <td>NaN</td>\n",
        "      <td> 0.001502</td>\n",
        "    </tr>\n",
        "    <tr>\n",
        "      <th>39</th>\n",
        "      <td> b</td>\n",
        "      <td> 3.861889</td>\n",
        "      <td> b</td>\n",
        "      <td>           0</td>\n",
        "      <td>  3.861889</td>\n",
        "      <td>NaN</td>\n",
        "      <td>      NaN</td>\n",
        "    </tr>\n",
        "  </tbody>\n",
        "</table>\n",
        "</div>"
       ],
       "metadata": {},
       "output_type": "pyout",
       "prompt_number": 65,
       "text": [
        "   hat    weight true_label       good_s      bad_s  hat_good_s  hat_bad_s\n",
        "0    s  5.355302          b            0   5.355302         NaN        NaN\n",
        "1    s  2.274423          b            0   2.274423         NaN        NaN\n",
        "2    s  2.559724          b            0   2.559724         NaN        NaN\n",
        "3    b  0.001503          s  0.001502705          0         NaN   0.001503\n",
        "4    s  4.780613          b            0   4.780613         NaN        NaN\n",
        "5    s  0.946014          b            0  0.9460141         NaN        NaN\n",
        "6    s  4.842680          b            0    4.84268         NaN        NaN\n",
        "7    s  2.173440          b            0    2.17344         NaN        NaN\n",
        "8    s  4.595202          b            0   4.595202         NaN        NaN\n",
        "9    b  0.926603          b            0  0.9266026         NaN        NaN\n",
        "10   b  0.823761          b            0  0.8237605         NaN        NaN\n",
        "11   b  0.001503          s  0.001502705          0         NaN   0.001503\n",
        "12   s  5.038179          b            0   5.038179         NaN        NaN\n",
        "13   s  4.810748          b            0   4.810748         NaN        NaN\n",
        "14   s  4.650789          b            0   4.650789         NaN        NaN\n",
        "15   s  4.779979          b            0   4.779979         NaN        NaN\n",
        "16   s  1.173902          b            0   1.173902         NaN        NaN\n",
        "17   s  4.699161          b            0   4.699161         NaN        NaN\n",
        "18   s  2.075582          b            0   2.075582         NaN        NaN\n",
        "19   s  4.929202          b            0   4.929202         NaN        NaN\n",
        "20   s  4.933376          b            0   4.933376         NaN        NaN\n",
        "21   s  4.415975          b            0   4.415975         NaN        NaN\n",
        "22   s  3.021578          b            0   3.021578         NaN        NaN\n",
        "23   s  4.721293          b            0   4.721293         NaN        NaN\n",
        "24   b  4.789500          b            0     4.7895         NaN        NaN\n",
        "25   s  1.746824          b            0   1.746824         NaN        NaN\n",
        "26   s  2.374647          b            0   2.374647         NaN        NaN\n",
        "27   s  2.152226          b            0   2.152226         NaN        NaN\n",
        "28   b  0.001503          s  0.001502705          0         NaN   0.001503\n",
        "29   b  0.001502          s   0.00150187          0         NaN   0.001502\n",
        "30   s  0.744056          b            0  0.7440562         NaN        NaN\n",
        "31   s  0.947223          b            0   0.947223         NaN        NaN\n",
        "32   s  2.906712          b            0   2.906712         NaN        NaN\n",
        "33   s  4.942305          b            0   4.942305         NaN        NaN\n",
        "34   s  2.105831          b            0   2.105831         NaN        NaN\n",
        "35   s  4.630613          b            0   4.630613         NaN        NaN\n",
        "36   s  1.922072          b            0   1.922072         NaN        NaN\n",
        "37   s  2.251351          b            0   2.251351         NaN        NaN\n",
        "38   b  0.001502          s   0.00150187          0         NaN   0.001502\n",
        "39   b  3.861889          b            0   3.861889         NaN        NaN"
       ]
      }
     ],
     "prompt_number": 65
    },
    {
     "cell_type": "code",
     "collapsed": false,
     "input": [],
     "language": "python",
     "metadata": {},
     "outputs": []
    },
    {
     "cell_type": "code",
     "collapsed": false,
     "input": [
      "#calculate reweight totals\n",
      "def calc_ams():\n",
      "  reweight = pd.DataFrame()\n",
      "  reweight['signal'] = y_test\n",
      "  reweight['weight'] = z[test_index]\n",
      "  grp=reweight.groupby('signal')\n",
      "  a=grp.sum()\n",
      "  total_s_weight_multitlier=  691.988 / a['weight'][1]\n",
      "  total_b_weight_multitpier=  41099 / a['weight'][0] \n",
      "  print ('s_weight multiplier b_weight multiplier',total_s_weight_multitlier,total_b_weight_multitpier)\n",
      "#get total good and bad \n",
      "  res.ix[res.true_label=='s', 'good_s'] = res.weight\n",
      "  res.ix[res.true_label=='s', 'bad_s'] = 0\n",
      "  res.ix[res.true_label=='b', 'bad_s'] = res.weight\n",
      "  res.ix[res.true_label=='b', 'good_s'] = 0\n",
      "#calc hat scores    \n",
      "  res['hat_good_s'] = res.apply(set_hat_good_weight, axis=1)\n",
      "  res['hat_bad_s'] = res.apply(set_hat_bad_weight, axis=1)\n",
      "\n",
      "  res.head()\n",
      "\n",
      "  print 'train weight score:' \n",
      "  print res['bad_s'].sum()\n",
      "  print res['good_s'].sum()\n",
      "  print (\"good_s\" ,res['good_s'].sum()*total_s_weight_multitlier, \"bad_s\",res['bad_s'].sum()*total_b_weight_multitpier)  \n",
      "\n",
      "  result_ams = cern.ams(res['good_s'].sum()*total_s_weight_multitlier,  res['bad_s'].sum()*total_b_weight_multitpier)\n",
      "\n",
      "  print result_ams \n",
      "\n",
      "  print '--------------------------------'  \n",
      "  print 'test weight score:(hat):' \n",
      "  print res['hat_bad_s'].sum()\n",
      "  print res['hat_good_s'].sum()\n",
      "  print (\"hat_good_s\" ,res['hat_good_s'].sum()*total_s_weight_multitlier, \"hat_bad_s\",res['hat_bad_s'].sum()*total_b_weight_multitpier)  \n",
      "\n",
      "  result_ams = cern.ams(res['hat_good_s'].sum()*total_s_weight_multitlier,  res['hat_bad_s'].sum()*total_b_weight_multitpier)\n",
      "\n",
      "  print result_ams \n",
      "  print '--------------------------------' "
     ],
     "language": "python",
     "metadata": {},
     "outputs": [],
     "prompt_number": 7
    },
    {
     "cell_type": "code",
     "collapsed": false,
     "input": [
      "\n",
      " res.apply(get_true, axis=1)"
     ],
     "language": "python",
     "metadata": {},
     "outputs": [],
     "prompt_number": 149
    },
    {
     "cell_type": "code",
     "collapsed": false,
     "input": [
      "\n",
      "\n",
      "\n",
      "#print (\"hat_good_s\" ,res['hat_good_s'].sum()*total_s_weight_multitlier, \"bad_s\",res['hat_bad_s'].sum()*total_b_weight_multitpier)  \n",
      "#print \"calc_ams:-\" \n",
      "calc_ams()"
     ],
     "language": "python",
     "metadata": {},
     "outputs": [
      {
       "output_type": "stream",
       "stream": "stdout",
       "text": [
        "('s_weight multiplier b_weight multiplier', 7.5750700591960483, 0.91317137735705545)\n",
        "train weight score:\n",
        "45006.8859133\n",
        "91.3507062763\n",
        "('good_s', 691.98800000000006, 'bad_s', 41099.0)\n",
        "s and b 691.988 - 41099.0\n",
        "3.40344292382\n",
        "--------------------------------\n",
        "test weight score:(hat):\n",
        "29.3442482397\n",
        "62.0064580366\n",
        "('hat_good_s', 469.70326374982784, 'bad_s', 26.796327582555126)\n",
        "s and b 469.70326375 - 26.7963275826\n",
        "41.4343387912\n",
        "--------------------------------\n"
       ]
      }
     ],
     "prompt_number": 64
    },
    {
     "cell_type": "code",
     "collapsed": false,
     "input": [
      "res.good_s.sum() *7.5750700591960483 \n",
      "res.bad_s.sum() * 0.91317137735705545 \n",
      "\n",
      "print res.hat_bad_s.sum() * 0.91317137735705545 \n",
      "print res.hat_good_s.sum() *7.5750700591960483 \n",
      "\n",
      "res.hat_good_s.sum()"
     ],
     "language": "python",
     "metadata": {},
     "outputs": [
      {
       "output_type": "stream",
       "stream": "stdout",
       "text": [
        "26.7963275826\n",
        "469.70326375\n"
       ]
      },
      {
       "metadata": {},
       "output_type": "pyout",
       "prompt_number": 81,
       "text": [
        "62.006458036597756"
       ]
      }
     ],
     "prompt_number": 81
    },
    {
     "cell_type": "code",
     "collapsed": false,
     "input": [
      "# 403.666190238 - 34.7570678667 \n",
      "#394.798606009 - 35.5760511409\n",
      "\n",
      "cern.ams(200.5760511409 ,300.798606009)    \n",
      "\n"
     ],
     "language": "python",
     "metadata": {},
     "outputs": [
      {
       "output_type": "stream",
       "stream": "stdout",
       "text": [
        "s and b 200.576051141 - 300.798606009\n"
       ]
      },
      {
       "metadata": {},
       "output_type": "pyout",
       "prompt_number": 107,
       "text": [
        "10.39872391121937"
       ]
      }
     ],
     "prompt_number": 107
    },
    {
     "cell_type": "code",
     "collapsed": false,
     "input": [
      "res.head()"
     ],
     "language": "python",
     "metadata": {},
     "outputs": [
      {
       "html": [
        "<div style=\"max-height:1000px;max-width:1500px;overflow:auto;\">\n",
        "<table border=\"1\" class=\"dataframe\">\n",
        "  <thead>\n",
        "    <tr style=\"text-align: right;\">\n",
        "      <th></th>\n",
        "      <th>hat</th>\n",
        "      <th>weight</th>\n",
        "      <th>true_label</th>\n",
        "      <th>good_s</th>\n",
        "      <th>bad_s</th>\n",
        "      <th>hat_good_s</th>\n",
        "      <th>hat_bad_s</th>\n",
        "    </tr>\n",
        "  </thead>\n",
        "  <tbody>\n",
        "    <tr>\n",
        "      <th>0</th>\n",
        "      <td> b</td>\n",
        "      <td> 5.446378</td>\n",
        "      <td> b</td>\n",
        "      <td>          0</td>\n",
        "      <td> 5.446378</td>\n",
        "      <td>NaN</td>\n",
        "      <td>      NaN</td>\n",
        "    </tr>\n",
        "    <tr>\n",
        "      <th>1</th>\n",
        "      <td> b</td>\n",
        "      <td> 6.245333</td>\n",
        "      <td> b</td>\n",
        "      <td>          0</td>\n",
        "      <td> 6.245333</td>\n",
        "      <td>NaN</td>\n",
        "      <td>      NaN</td>\n",
        "    </tr>\n",
        "    <tr>\n",
        "      <th>2</th>\n",
        "      <td> b</td>\n",
        "      <td> 5.296003</td>\n",
        "      <td> b</td>\n",
        "      <td>          0</td>\n",
        "      <td> 5.296003</td>\n",
        "      <td>NaN</td>\n",
        "      <td>      NaN</td>\n",
        "    </tr>\n",
        "    <tr>\n",
        "      <th>3</th>\n",
        "      <td> b</td>\n",
        "      <td> 2.183892</td>\n",
        "      <td> b</td>\n",
        "      <td>          0</td>\n",
        "      <td> 2.183892</td>\n",
        "      <td>NaN</td>\n",
        "      <td>      NaN</td>\n",
        "    </tr>\n",
        "    <tr>\n",
        "      <th>4</th>\n",
        "      <td> b</td>\n",
        "      <td> 0.018636</td>\n",
        "      <td> s</td>\n",
        "      <td> 0.01863612</td>\n",
        "      <td>        0</td>\n",
        "      <td>NaN</td>\n",
        "      <td> 0.018636</td>\n",
        "    </tr>\n",
        "  </tbody>\n",
        "</table>\n",
        "</div>"
       ],
       "metadata": {},
       "output_type": "pyout",
       "prompt_number": 98,
       "text": [
        "  hat    weight true_label      good_s     bad_s  hat_good_s  hat_bad_s\n",
        "0   b  5.446378          b           0  5.446378         NaN        NaN\n",
        "1   b  6.245333          b           0  6.245333         NaN        NaN\n",
        "2   b  5.296003          b           0  5.296003         NaN        NaN\n",
        "3   b  2.183892          b           0  2.183892         NaN        NaN\n",
        "4   b  0.018636          s  0.01863612         0         NaN   0.018636"
       ]
      }
     ],
     "prompt_number": 98
    },
    {
     "cell_type": "code",
     "collapsed": false,
     "input": [
      "print x_result\n",
      "\n",
      "z[test_index]"
     ],
     "language": "python",
     "metadata": {},
     "outputs": [
      {
       "output_type": "stream",
       "stream": "stdout",
       "text": [
        "[[ 0.82087687  0.17912313]\n",
        " [ 0.85179948  0.14820052]\n",
        " [ 0.66072928  0.33927072]\n",
        " ..., \n",
        " [ 0.64073906  0.35926094]\n",
        " [ 0.6665824   0.3334176 ]\n",
        " [ 0.39717869  0.60282131]]\n"
       ]
      },
      {
       "metadata": {},
       "output_type": "pyout",
       "prompt_number": 17,
       "text": [
        "array([ 5.44637821,  6.24533269,  5.29600299, ...,  4.01951028,\n",
        "        4.46468125,  0.01863612])"
       ]
      }
     ],
     "prompt_number": 17
    },
    {
     "cell_type": "code",
     "collapsed": false,
     "input": [
      " x_result[:,0]\n",
      "   "
     ],
     "language": "python",
     "metadata": {},
     "outputs": [
      {
       "metadata": {},
       "output_type": "pyout",
       "prompt_number": 26,
       "text": [
        "array([ 0.82087687,  0.85179948,  0.66072928, ...,  0.64073906,\n",
        "        0.6665824 ,  0.39717869])"
       ]
      }
     ],
     "prompt_number": 26
    },
    {
     "cell_type": "code",
     "collapsed": false,
     "input": [],
     "language": "python",
     "metadata": {},
     "outputs": []
    }
   ],
   "metadata": {}
  }
 ]
}